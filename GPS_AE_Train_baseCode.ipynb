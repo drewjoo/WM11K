{
 "cells": [
  {
   "cell_type": "code",
   "execution_count": null,
   "metadata": {
    "colab": {
     "base_uri": "https://localhost:8080/"
    },
    "id": "GZ6lU8N4WK_l",
    "outputId": "c58d9536-be9f-4a6c-cc3f-6098e2485653"
   },
   "outputs": [
    {
     "name": "stderr",
     "output_type": "stream",
     "text": [
      "<ipython-input-1-a7f0f56daf37>:9: MatplotlibDeprecationWarning: The seaborn styles shipped by Matplotlib are deprecated since 3.6, as they no longer correspond to the styles shipped by seaborn. However, they will remain available as 'seaborn-v0_8-<style>'. Alternatively, directly use the seaborn API instead.\n",
      "  plt.style.use('seaborn')\n"
     ]
    }
   ],
   "source": [
    "# Load in our libraries\n",
    "import pandas as pd\n",
    "import numpy as np\n",
    "import sklearn\n",
    "import xgboost as xgb\n",
    "import seaborn as sns\n",
    "import matplotlib.pyplot as plt\n",
    "from sklearn.model_selection import KFold\n",
    "plt.style.use('seaborn')\n",
    "sns.set(font_scale=2)\n",
    "\n",
    "\n",
    "%matplotlib inline\n",
    "import torch\n",
    "import torchvision\n",
    "from PIL import Image\n",
    "import torch.nn as nn\n",
    "import torch.nn.functional as F\n",
    "import torch.optim as optim\n",
    "import torch.nn.init\n",
    "from torch.utils.data import Dataset, DataLoader,TensorDataset,random_split,SubsetRandomSampler, ConcatDataset\n",
    "import torch\n",
    "from torchvision import transforms\n",
    "from PIL import Image"
   ]
  },
  {
   "cell_type": "code",
   "execution_count": null,
   "metadata": {
    "id": "SxzU5PnhZZPu"
   },
   "outputs": [],
   "source": [
    "#CUDA 메모리 할당 / 디바이스 할당\n",
    "USE_CUDA = torch.cuda.is_available()\n",
    "DEVICE = torch.device(\"cuda\" if USE_CUDA else \"cpu\")"
   ]
  },
  {
   "cell_type": "code",
   "execution_count": null,
   "metadata": {
    "colab": {
     "base_uri": "https://localhost:8080/"
    },
    "id": "E8pthkbrWtb5",
    "outputId": "b7b5e0d1-2474-4ba6-86da-00a71063291e"
   },
   "outputs": [
    {
     "name": "stdout",
     "output_type": "stream",
     "text": [
      "Mounted at /content/gdrive\n"
     ]
    }
   ],
   "source": [
    "from google.colab import drive\n",
    "drive.mount('/content/gdrive')\n",
    "df = pd.read_pickle('/content/gdrive/My Drive/LSWMD.pkl')"
   ]
  },
  {
   "cell_type": "markdown",
   "metadata": {
    "id": "yI-GZ2oNzLvC"
   },
   "source": [
    "AutoEncoder 사용여부"
   ]
  },
  {
   "cell_type": "code",
   "execution_count": null,
   "metadata": {
    "colab": {
     "base_uri": "https://localhost:8080/"
    },
    "id": "NAW3vJU3Wx76",
    "outputId": "e51a651a-14f9-4ef0-ba4d-9edacd39e613"
   },
   "outputs": [
    {
     "name": "stdout",
     "output_type": "stream",
     "text": [
      "오토인코더 사용여부 O/X == O\n"
     ]
    }
   ],
   "source": [
    "autoencoder = str(input('오토인코더 사용여부 O/X == '))\n",
    "while True:\n",
    "  if autoencoder == 'O' or autoencoder == 'X':\n",
    "    break\n",
    "  else:\n",
    "    autoencoder = str(input('오토인코더 사용여부 O/X == '))"
   ]
  },
  {
   "cell_type": "markdown",
   "metadata": {
    "id": "6ce1NZMHzPve"
   },
   "source": [
    "Data 전처리"
   ]
  },
  {
   "cell_type": "code",
   "execution_count": null,
   "metadata": {
    "colab": {
     "base_uri": "https://localhost:8080/",
     "height": 337
    },
    "id": "PROZOiI9XJfj",
    "outputId": "d1940dd9-52c6-4559-9c39-04717823053f"
   },
   "outputs": [
    {
     "data": {
      "text/html": [
       "\n",
       "\n",
       "  <div id=\"df-476ebba7-1435-4402-92cf-3db64fd2ea2b\">\n",
       "    <div class=\"colab-df-container\">\n",
       "      <div>\n",
       "<style scoped>\n",
       "    .dataframe tbody tr th:only-of-type {\n",
       "        vertical-align: middle;\n",
       "    }\n",
       "\n",
       "    .dataframe tbody tr th {\n",
       "        vertical-align: top;\n",
       "    }\n",
       "\n",
       "    .dataframe thead th {\n",
       "        text-align: right;\n",
       "    }\n",
       "</style>\n",
       "<table border=\"1\" class=\"dataframe\">\n",
       "  <thead>\n",
       "    <tr style=\"text-align: right;\">\n",
       "      <th></th>\n",
       "      <th>waferMap</th>\n",
       "      <th>dieSize</th>\n",
       "      <th>lotName</th>\n",
       "      <th>waferIndex</th>\n",
       "      <th>trianTestLabel</th>\n",
       "      <th>failureType</th>\n",
       "      <th>waferMapDim</th>\n",
       "    </tr>\n",
       "  </thead>\n",
       "  <tbody>\n",
       "    <tr>\n",
       "      <th>342361</th>\n",
       "      <td>[[0, 0, 0, 0, 0, 0, 0, 0, 0, 0, 0, 0, 0, 0, 0,...</td>\n",
       "      <td>2570.0</td>\n",
       "      <td>lot20521</td>\n",
       "      <td>25.0</td>\n",
       "      <td>[]</td>\n",
       "      <td>[]</td>\n",
       "      <td>(60, 55)</td>\n",
       "    </tr>\n",
       "    <tr>\n",
       "      <th>217010</th>\n",
       "      <td>[[0, 0, 0, 0, 0, 0, 0, 0, 0, 0, 0, 0, 0, 0, 2,...</td>\n",
       "      <td>599.0</td>\n",
       "      <td>lot13765</td>\n",
       "      <td>7.0</td>\n",
       "      <td>[]</td>\n",
       "      <td>[]</td>\n",
       "      <td>(28, 29)</td>\n",
       "    </tr>\n",
       "    <tr>\n",
       "      <th>514095</th>\n",
       "      <td>[[0, 0, 0, 0, 0, 0, 0, 0, 0, 0, 0, 2, 1, 1, 1,...</td>\n",
       "      <td>515.0</td>\n",
       "      <td>lot32116</td>\n",
       "      <td>16.0</td>\n",
       "      <td>[]</td>\n",
       "      <td>[]</td>\n",
       "      <td>(25, 27)</td>\n",
       "    </tr>\n",
       "    <tr>\n",
       "      <th>399238</th>\n",
       "      <td>[[0, 0, 0, 0, 0, 0, 0, 0, 0, 0, 0, 0, 0, 1, 1,...</td>\n",
       "      <td>1091.0</td>\n",
       "      <td>lot23885</td>\n",
       "      <td>5.0</td>\n",
       "      <td>[]</td>\n",
       "      <td>[]</td>\n",
       "      <td>(37, 37)</td>\n",
       "    </tr>\n",
       "    <tr>\n",
       "      <th>610990</th>\n",
       "      <td>[[0, 0, 0, 0, 0, 0, 0, 0, 0, 0, 0, 0, 1, 1, 1,...</td>\n",
       "      <td>710.0</td>\n",
       "      <td>lot38410</td>\n",
       "      <td>23.0</td>\n",
       "      <td>[]</td>\n",
       "      <td>[]</td>\n",
       "      <td>(32, 29)</td>\n",
       "    </tr>\n",
       "  </tbody>\n",
       "</table>\n",
       "</div>\n",
       "      <button class=\"colab-df-convert\" onclick=\"convertToInteractive('df-476ebba7-1435-4402-92cf-3db64fd2ea2b')\"\n",
       "              title=\"Convert this dataframe to an interactive table.\"\n",
       "              style=\"display:none;\">\n",
       "\n",
       "  <svg xmlns=\"http://www.w3.org/2000/svg\" height=\"24px\"viewBox=\"0 0 24 24\"\n",
       "       width=\"24px\">\n",
       "    <path d=\"M0 0h24v24H0V0z\" fill=\"none\"/>\n",
       "    <path d=\"M18.56 5.44l.94 2.06.94-2.06 2.06-.94-2.06-.94-.94-2.06-.94 2.06-2.06.94zm-11 1L8.5 8.5l.94-2.06 2.06-.94-2.06-.94L8.5 2.5l-.94 2.06-2.06.94zm10 10l.94 2.06.94-2.06 2.06-.94-2.06-.94-.94-2.06-.94 2.06-2.06.94z\"/><path d=\"M17.41 7.96l-1.37-1.37c-.4-.4-.92-.59-1.43-.59-.52 0-1.04.2-1.43.59L10.3 9.45l-7.72 7.72c-.78.78-.78 2.05 0 2.83L4 21.41c.39.39.9.59 1.41.59.51 0 1.02-.2 1.41-.59l7.78-7.78 2.81-2.81c.8-.78.8-2.07 0-2.86zM5.41 20L4 18.59l7.72-7.72 1.47 1.35L5.41 20z\"/>\n",
       "  </svg>\n",
       "      </button>\n",
       "\n",
       "\n",
       "\n",
       "    <div id=\"df-a899cd55-fa0d-475b-9f18-ffee9f040de9\">\n",
       "      <button class=\"colab-df-quickchart\" onclick=\"quickchart('df-a899cd55-fa0d-475b-9f18-ffee9f040de9')\"\n",
       "              title=\"Suggest charts.\"\n",
       "              style=\"display:none;\">\n",
       "\n",
       "<svg xmlns=\"http://www.w3.org/2000/svg\" height=\"24px\"viewBox=\"0 0 24 24\"\n",
       "     width=\"24px\">\n",
       "    <g>\n",
       "        <path d=\"M19 3H5c-1.1 0-2 .9-2 2v14c0 1.1.9 2 2 2h14c1.1 0 2-.9 2-2V5c0-1.1-.9-2-2-2zM9 17H7v-7h2v7zm4 0h-2V7h2v10zm4 0h-2v-4h2v4z\"/>\n",
       "    </g>\n",
       "</svg>\n",
       "      </button>\n",
       "    </div>\n",
       "\n",
       "<style>\n",
       "  .colab-df-quickchart {\n",
       "    background-color: #E8F0FE;\n",
       "    border: none;\n",
       "    border-radius: 50%;\n",
       "    cursor: pointer;\n",
       "    display: none;\n",
       "    fill: #1967D2;\n",
       "    height: 32px;\n",
       "    padding: 0 0 0 0;\n",
       "    width: 32px;\n",
       "  }\n",
       "\n",
       "  .colab-df-quickchart:hover {\n",
       "    background-color: #E2EBFA;\n",
       "    box-shadow: 0px 1px 2px rgba(60, 64, 67, 0.3), 0px 1px 3px 1px rgba(60, 64, 67, 0.15);\n",
       "    fill: #174EA6;\n",
       "  }\n",
       "\n",
       "  [theme=dark] .colab-df-quickchart {\n",
       "    background-color: #3B4455;\n",
       "    fill: #D2E3FC;\n",
       "  }\n",
       "\n",
       "  [theme=dark] .colab-df-quickchart:hover {\n",
       "    background-color: #434B5C;\n",
       "    box-shadow: 0px 1px 3px 1px rgba(0, 0, 0, 0.15);\n",
       "    filter: drop-shadow(0px 1px 2px rgba(0, 0, 0, 0.3));\n",
       "    fill: #FFFFFF;\n",
       "  }\n",
       "</style>\n",
       "\n",
       "    <script>\n",
       "      async function quickchart(key) {\n",
       "        const containerElement = document.querySelector('#' + key);\n",
       "        const charts = await google.colab.kernel.invokeFunction(\n",
       "            'suggestCharts', [key], {});\n",
       "      }\n",
       "    </script>\n",
       "\n",
       "      <script>\n",
       "\n",
       "function displayQuickchartButton(domScope) {\n",
       "  let quickchartButtonEl =\n",
       "    domScope.querySelector('#df-a899cd55-fa0d-475b-9f18-ffee9f040de9 button.colab-df-quickchart');\n",
       "  quickchartButtonEl.style.display =\n",
       "    google.colab.kernel.accessAllowed ? 'block' : 'none';\n",
       "}\n",
       "\n",
       "        displayQuickchartButton(document);\n",
       "      </script>\n",
       "      <style>\n",
       "    .colab-df-container {\n",
       "      display:flex;\n",
       "      flex-wrap:wrap;\n",
       "      gap: 12px;\n",
       "    }\n",
       "\n",
       "    .colab-df-convert {\n",
       "      background-color: #E8F0FE;\n",
       "      border: none;\n",
       "      border-radius: 50%;\n",
       "      cursor: pointer;\n",
       "      display: none;\n",
       "      fill: #1967D2;\n",
       "      height: 32px;\n",
       "      padding: 0 0 0 0;\n",
       "      width: 32px;\n",
       "    }\n",
       "\n",
       "    .colab-df-convert:hover {\n",
       "      background-color: #E2EBFA;\n",
       "      box-shadow: 0px 1px 2px rgba(60, 64, 67, 0.3), 0px 1px 3px 1px rgba(60, 64, 67, 0.15);\n",
       "      fill: #174EA6;\n",
       "    }\n",
       "\n",
       "    [theme=dark] .colab-df-convert {\n",
       "      background-color: #3B4455;\n",
       "      fill: #D2E3FC;\n",
       "    }\n",
       "\n",
       "    [theme=dark] .colab-df-convert:hover {\n",
       "      background-color: #434B5C;\n",
       "      box-shadow: 0px 1px 3px 1px rgba(0, 0, 0, 0.15);\n",
       "      filter: drop-shadow(0px 1px 2px rgba(0, 0, 0, 0.3));\n",
       "      fill: #FFFFFF;\n",
       "    }\n",
       "  </style>\n",
       "\n",
       "      <script>\n",
       "        const buttonEl =\n",
       "          document.querySelector('#df-476ebba7-1435-4402-92cf-3db64fd2ea2b button.colab-df-convert');\n",
       "        buttonEl.style.display =\n",
       "          google.colab.kernel.accessAllowed ? 'block' : 'none';\n",
       "\n",
       "        async function convertToInteractive(key) {\n",
       "          const element = document.querySelector('#df-476ebba7-1435-4402-92cf-3db64fd2ea2b');\n",
       "          const dataTable =\n",
       "            await google.colab.kernel.invokeFunction('convertToInteractive',\n",
       "                                                     [key], {});\n",
       "          if (!dataTable) return;\n",
       "\n",
       "          const docLinkHtml = 'Like what you see? Visit the ' +\n",
       "            '<a target=\"_blank\" href=https://colab.research.google.com/notebooks/data_table.ipynb>data table notebook</a>'\n",
       "            + ' to learn more about interactive tables.';\n",
       "          element.innerHTML = '';\n",
       "          dataTable['output_type'] = 'display_data';\n",
       "          await google.colab.output.renderOutput(dataTable, element);\n",
       "          const docLink = document.createElement('div');\n",
       "          docLink.innerHTML = docLinkHtml;\n",
       "          element.appendChild(docLink);\n",
       "        }\n",
       "      </script>\n",
       "    </div>\n",
       "  </div>\n"
      ],
      "text/plain": [
       "                                                 waferMap  dieSize   lotName  \\\n",
       "342361  [[0, 0, 0, 0, 0, 0, 0, 0, 0, 0, 0, 0, 0, 0, 0,...   2570.0  lot20521   \n",
       "217010  [[0, 0, 0, 0, 0, 0, 0, 0, 0, 0, 0, 0, 0, 0, 2,...    599.0  lot13765   \n",
       "514095  [[0, 0, 0, 0, 0, 0, 0, 0, 0, 0, 0, 2, 1, 1, 1,...    515.0  lot32116   \n",
       "399238  [[0, 0, 0, 0, 0, 0, 0, 0, 0, 0, 0, 0, 0, 1, 1,...   1091.0  lot23885   \n",
       "610990  [[0, 0, 0, 0, 0, 0, 0, 0, 0, 0, 0, 0, 1, 1, 1,...    710.0  lot38410   \n",
       "\n",
       "        waferIndex trianTestLabel failureType waferMapDim  \n",
       "342361        25.0             []          []    (60, 55)  \n",
       "217010         7.0             []          []    (28, 29)  \n",
       "514095        16.0             []          []    (25, 27)  \n",
       "399238         5.0             []          []    (37, 37)  \n",
       "610990        23.0             []          []    (32, 29)  "
      ]
     },
     "execution_count": 5,
     "metadata": {},
     "output_type": "execute_result"
    }
   ],
   "source": [
    "# 웨이퍼 맵 => 많은 정보는 없지만 인스턴스 별로 다이 크기가 다름.\n",
    "# 웨이퍼 맵 차원 검사를 위한 새로운 변수 WaferMapDim 생성\n",
    "def find_dim(x):\n",
    "    dim0=np.size(x,axis=0)\n",
    "    dim1=np.size(x,axis=1)\n",
    "    return dim0,dim1\n",
    "df['waferMapDim']=df.waferMap.apply(find_dim)\n",
    "df.sample(5)"
   ]
  },
  {
   "cell_type": "code",
   "execution_count": null,
   "metadata": {
    "colab": {
     "base_uri": "https://localhost:8080/"
    },
    "id": "FTc_KqmaXqzo",
    "outputId": "e16dba37-ff1d-4f7a-e826-a354ec2dd5ea"
   },
   "outputs": [
    {
     "name": "stderr",
     "output_type": "stream",
     "text": [
      "/usr/local/lib/python3.10/dist-packages/pandas/core/array_algos/replace.py:86: FutureWarning: elementwise comparison failed; returning scalar instead, but in the future will perform elementwise comparison\n",
      "  op = lambda x: operator.eq(x, b)\n"
     ]
    }
   ],
   "source": [
    "# 고장 유형 확인 and class 분류\n",
    "df['failureNum'] = df.failureType\n",
    "mapping_type={'Center':0,'Donut':1,'Edge-Loc':2,'Edge-Ring':3,'Loc':4,'Random':5,'Scratch':6,'Near-full':7,'none':8}\n",
    "df=df.replace({'failureNum':mapping_type})"
   ]
  },
  {
   "cell_type": "code",
   "execution_count": null,
   "metadata": {
    "colab": {
     "base_uri": "https://localhost:8080/"
    },
    "id": "Ci642CSXXwmu",
    "outputId": "bd844d2f-e425-4897-e75c-fb497fe12f4f"
   },
   "outputs": [
    {
     "name": "stderr",
     "output_type": "stream",
     "text": [
      "/usr/local/lib/python3.10/dist-packages/pandas/core/ops/array_ops.py:75: FutureWarning: elementwise comparison failed; returning scalar instead, but in the future will perform elementwise comparison\n",
      "  result = libops.scalar_compare(x.ravel(), y, op)\n"
     ]
    },
    {
     "data": {
      "text/plain": [
       "(172950, 25519, 147431)"
      ]
     },
     "execution_count": 7,
     "metadata": {},
     "output_type": "execute_result"
    }
   ],
   "source": [
    "#df_withlabel (라벨포함) : 라벨링된 웨이퍼\n",
    "#df_withpattern (패턴포함): 라벨링&패턴 웨이퍼\n",
    "#df_nonpattern (패턴미포함) : 라벨링은 됐지만 패턴은 없는 웨이퍼\n",
    "\n",
    "df_withlabel = df[(df['failureType']!=0)] # 라벨링된 웨이퍼 : failureType = 0이 아닌 df\n",
    "df_withlabel =df_withlabel.reset_index() #labeled index.\n",
    "\n",
    "df_withpattern = df_withlabel[(df_withlabel['failureType'] != 'none')]  # 라벨링&패턴 웨이퍼: failureType = none 이 아닌 df\n",
    "df_withpattern = df_withpattern.reset_index() #patterned index.\n",
    "\n",
    "df_nonpattern = df_withlabel[(df_withlabel['failureType'] == 'none')] # 라벨은 있고 패턴은 없는 웨이퍼:  failureType == none 인 df\n",
    "df_withlabel.shape[0], df_withpattern.shape[0], df_nonpattern.shape[0]\n"
   ]
  },
  {
   "cell_type": "code",
   "execution_count": null,
   "metadata": {
    "id": "-RimsKwkw6Fk"
   },
   "outputs": [],
   "source": [
    "#셔플\n",
    "df_withpattern = df_withpattern.sample(frac=1).reset_index(drop=True)"
   ]
  },
  {
   "cell_type": "code",
   "execution_count": null,
   "metadata": {
    "id": "OIfZamtEX8t3"
   },
   "outputs": [],
   "source": [
    "#Data Split\n",
    "train_rate=0.8\n",
    "\n",
    "df_withpattern1=pd.DataFrame()\n",
    "whole=[]\n",
    "for i in range(8):\n",
    "  length=0\n",
    "  T=int(list(df_withpattern.failureNum).count(i)*train_rate)\n",
    "  for j in range(len(df_withpattern)):\n",
    "    if length<T and df_withpattern.failureNum.iloc[j]==i:\n",
    "      length+=1\n",
    "      whole.append(j)\n",
    "      df_withpattern1=df_withpattern1.append(df_withpattern.iloc[j])\n",
    "df_withpattern.drop(whole,axis=0,inplace=True)\n",
    "df_withpattern1=df_withpattern1.reset_index(drop=True)\n"
   ]
  },
  {
   "cell_type": "code",
   "execution_count": null,
   "metadata": {
    "colab": {
     "base_uri": "https://localhost:8080/"
    },
    "id": "qDp0-VoYYdsT",
    "outputId": "9eb8b594-e523-4a50-f91b-2c65b8ce1fb0"
   },
   "outputs": [
    {
     "name": "stdout",
     "output_type": "stream",
     "text": [
      "(20413,)\n",
      "(5106,)\n"
     ]
    }
   ],
   "source": [
    "#텐서 데이터 사용\n",
    "tensor_data_test = df_withpattern['waferMap']\n",
    "tensor_data=df_withpattern1['waferMap']\n",
    "print(tensor_data.shape)\n",
    "print(tensor_data_test.shape)"
   ]
  },
  {
   "cell_type": "code",
   "execution_count": null,
   "metadata": {
    "colab": {
     "base_uri": "https://localhost:8080/"
    },
    "id": "qI5gwWTbYzvn",
    "outputId": "2db16efb-0563-44e7-c8aa-d1385a640648"
   },
   "outputs": [
    {
     "data": {
      "text/plain": [
       "0       [[0, 0, 0, 0, 0, 0, 0, 0, 0, 0, 0, 0, 0, 0, 0,...\n",
       "1       [[0, 0, 0, 0, 0, 0, 0, 0, 0, 0, 2, 2, 2, 2, 1,...\n",
       "2       [[0, 0, 0, 0, 0, 0, 0, 0, 0, 0, 0, 0, 2, 2, 2,...\n",
       "3       [[0, 0, 0, 0, 0, 0, 0, 0, 0, 0, 0, 0, 0, 0, 0,...\n",
       "4       [[0, 0, 0, 0, 0, 0, 0, 0, 0, 0, 0, 0, 0, 0, 0,...\n",
       "                              ...                        \n",
       "5101    [[0, 0, 0, 0, 0, 0, 0, 0, 0, 0, 0, 0, 0, 0, 0,...\n",
       "5102    [[0, 0, 0, 0, 0, 0, 0, 0, 0, 0, 0, 0, 0, 2, 2,...\n",
       "5103    [[0, 0, 0, 0, 0, 0, 0, 0, 0, 0, 0, 0, 0, 0, 0,...\n",
       "5104    [[0, 0, 0, 0, 0, 0, 0, 0, 0, 0, 0, 0, 0, 0, 0,...\n",
       "5105    [[0, 0, 0, 0, 0, 0, 0, 0, 0, 0, 0, 0, 2, 2, 2,...\n",
       "Name: waferMap, Length: 5106, dtype: object"
      ]
     },
     "execution_count": 11,
     "metadata": {},
     "output_type": "execute_result"
    }
   ],
   "source": [
    "tensor_data_test = tensor_data_test.reset_index(drop=True)\n",
    "tensor_data_test"
   ]
  },
  {
   "cell_type": "markdown",
   "metadata": {
    "id": "tAvz2qFyEn5j"
   },
   "source": [
    "Resize / RGb"
   ]
  },
  {
   "cell_type": "code",
   "execution_count": null,
   "metadata": {
    "id": "ZoqNB0m5Y5NL"
   },
   "outputs": [],
   "source": [
    "#여러 개의 웨이퍼 크기를 통일하기 위한 resize 함수\n",
    "def resize(data, Dim0, Dim1):\n",
    "    transTensor = transforms.ToTensor()\n",
    "    resizer = transforms.Resize((Dim0, Dim1))\n",
    "    rwm = torch.ones((1, Dim0, Dim1)).to(DEVICE)\n",
    "    for i in range(len(data)):\n",
    "        a = transTensor(data[i].astype('int32'))\n",
    "        a = resizer(a).reshape((1, Dim0, Dim1)).to(DEVICE)\n",
    "        rwm = torch.cat([rwm, a])\n",
    "    x = rwm[1:]\n",
    "    del rwm\n",
    "    return x"
   ]
  },
  {
   "cell_type": "code",
   "execution_count": null,
   "metadata": {
    "colab": {
     "base_uri": "https://localhost:8080/"
    },
    "id": "CihRENm5ZNmn",
    "outputId": "fccc4df5-8d90-4f71-9fe1-164590d85f8c"
   },
   "outputs": [
    {
     "name": "stderr",
     "output_type": "stream",
     "text": [
      "/usr/local/lib/python3.10/dist-packages/torchvision/transforms/functional.py:1603: UserWarning: The default value of the antialias parameter of all the resizing transforms (Resize(), RandomResizedCrop(), etc.) will change from None to True in v0.17, in order to be consistent across the PIL and Tensor backends. To suppress this warning, directly pass antialias=True (recommended, future default), antialias=None (current default, which means False for Tensors and True for PIL), or antialias=False (only works on Tensors - PIL will still use antialiasing). This also applies if you are using the inference transforms from the models weights: update the call to weights.transforms(antialias=True).\n",
      "  warnings.warn(\n"
     ]
    }
   ],
   "source": [
    "#텐서 데이터의 크기를 resize함수를 통해 64,64로 통일\n",
    "\n",
    "resized_images_test=resize(tensor_data_test,64,64)\n",
    "resized_images = resize(tensor_data, 64, 64)"
   ]
  },
  {
   "cell_type": "code",
   "execution_count": null,
   "metadata": {
    "id": "kEHTPJftZOSG"
   },
   "outputs": [],
   "source": [
    "# 3차원의 데이터로 만들기 위한 RGB함수\n",
    "# 0: 웨이퍼가 아닌 부분 -> R, 1: 정상 웨이퍼 부분 -> G, 2: 결함있는 부분 -> B|\n",
    "\n",
    "def rgb_sw(x): #rgb 추가\n",
    "  Dim0 = np.size(x, axis=1)\n",
    "  Dim1 = np.size(x, axis=2)\n",
    "  new_x = np.zeros((len(x), Dim0, Dim1, 3)) # 0으로만 이루어진 array 생성\n",
    "  x = torch.unsqueeze(x,-1) # 차원이 1인 차원 생성\n",
    "  x = x.to(torch.device('cpu'))\n",
    "  x = x.numpy()\n",
    "  for w in range(len(x)):\n",
    "      for i in range(Dim0):\n",
    "          for j in range(Dim1):\n",
    "              new_x[w, i, j, int(x[w, i, j])] = 1\n",
    "  return new_x\n",
    "resized_images_test=rgb_sw(resized_images_test)\n",
    "resized_images = rgb_sw(resized_images)"
   ]
  },
  {
   "cell_type": "code",
   "execution_count": null,
   "metadata": {
    "colab": {
     "base_uri": "https://localhost:8080/"
    },
    "id": "r3MKprHPZOT8",
    "outputId": "36e7f600-d50a-40ad-b641-9ef339150b16"
   },
   "outputs": [
    {
     "name": "stdout",
     "output_type": "stream",
     "text": [
      "(20413, 64, 64, 3)\n",
      "(5106, 64, 64, 3)\n"
     ]
    }
   ],
   "source": [
    "#추가 된 채널 확인\n",
    "print(resized_images.shape)\n",
    "print(resized_images_test.shape)"
   ]
  },
  {
   "cell_type": "code",
   "execution_count": null,
   "metadata": {
    "colab": {
     "base_uri": "https://localhost:8080/"
    },
    "id": "yL8sJvZbZOYJ",
    "outputId": "7104ecdf-8deb-4bfa-bf4c-ca08cf66ebfb"
   },
   "outputs": [
    {
     "name": "stdout",
     "output_type": "stream",
     "text": [
      "torch.Size([20413, 3, 64, 64])\n",
      "torch.Size([5106, 3, 64, 64])\n"
     ]
    }
   ],
   "source": [
    "#데이터 사용을 위해 텐서데이터로 변경\n",
    "resized_wm = torch.Tensor(np.transpose(resized_images, (0, 3, 1, 2)))\n",
    "resized_wm_test=torch.Tensor(np.transpose(resized_images_test, (0, 3, 1, 2)))\n",
    "print(resized_wm.shape)\n",
    "print(resized_wm_test.shape)"
   ]
  },
  {
   "cell_type": "code",
   "execution_count": null,
   "metadata": {
    "colab": {
     "base_uri": "https://localhost:8080/"
    },
    "id": "lVNdqkTIZOcD",
    "outputId": "d3f01b98-366d-4703-f758-af75c85735c6"
   },
   "outputs": [
    {
     "name": "stdout",
     "output_type": "stream",
     "text": [
      "['Center', 'Donut', 'Edge-Loc', 'Edge-Ring', 'Loc', 'Near-full', 'Random', 'Scratch']\n"
     ]
    }
   ],
   "source": [
    "#라벨 및 클래스 지정 및 확인\n",
    "#레이블 변수 지정\n",
    "labels_test = df_withpattern['failureType']\n",
    "labels = df_withpattern1['failureType']\n",
    "\n",
    "labels_test=labels_test.apply(lambda x: x[0][0])\n",
    "labels = labels.apply(lambda x: x[0][0])\n",
    "\n",
    "labels_test=labels_test.replace({'':'none'})\n",
    "labels = labels.replace({'': 'none'})\n",
    "\n",
    "labels_test = labels_test.to_numpy()\n",
    "labels = labels.to_numpy()\n",
    "\n",
    "labels_test = np.array(labels_test).reshape((-1,1))\n",
    "labels = np.array(labels).reshape((-1,1))\n",
    "\n",
    "label_wm_test=labels_test\n",
    "label_wm = labels\n",
    "\n",
    "faulty_case = np.unique(labels).flatten().tolist()\n",
    "np.array(labels, dtype='<U8')\n",
    "print(faulty_case)"
   ]
  },
  {
   "cell_type": "markdown",
   "metadata": {
    "id": "s0pUtWiGzd4_"
   },
   "source": [
    "Convolutional Autoencoder"
   ]
  },
  {
   "cell_type": "code",
   "execution_count": null,
   "metadata": {
    "colab": {
     "base_uri": "https://localhost:8080/"
    },
    "id": "rZExRJFlZOgA",
    "outputId": "4e669acf-eba2-4b23-f070-dd4c248cbd6c"
   },
   "outputs": [
    {
     "name": "stdout",
     "output_type": "stream",
     "text": [
      "ConvAutoEncoder(\n",
      "  (cnn_layer1): Sequential(\n",
      "    (0): Conv2d(3, 16, kernel_size=(3, 3), stride=(1, 1), padding=(1, 1))\n",
      "    (1): ReLU()\n",
      "    (2): MaxPool2d(kernel_size=2, stride=2, padding=0, dilation=1, ceil_mode=False)\n",
      "  )\n",
      "  (cnn_layer2): Sequential(\n",
      "    (0): Conv2d(16, 32, kernel_size=(3, 3), stride=(1, 1), padding=(1, 1))\n",
      "    (1): ReLU()\n",
      "    (2): MaxPool2d(kernel_size=2, stride=2, padding=0, dilation=1, ceil_mode=False)\n",
      "  )\n",
      "  (tran_cnn_layer1): Sequential(\n",
      "    (0): ConvTranspose2d(32, 16, kernel_size=(2, 2), stride=(2, 2))\n",
      "    (1): ReLU()\n",
      "  )\n",
      "  (tran_cnn_layer2): Sequential(\n",
      "    (0): ConvTranspose2d(16, 3, kernel_size=(2, 2), stride=(2, 2))\n",
      "    (1): Sigmoid()\n",
      "  )\n",
      ")\n",
      "torch.Size([20413, 3, 64, 64])\n",
      "Epoch: 1/10 => loss : 0.705\n",
      "Epoch: 2/10 => loss : 0.275\n",
      "Epoch: 3/10 => loss : 0.215\n",
      "Epoch: 4/10 => loss : 0.187\n",
      "Epoch: 5/10 => loss : 0.167\n",
      "Epoch: 6/10 => loss : 0.154\n",
      "Epoch: 7/10 => loss : 0.145\n",
      "Epoch: 8/10 => loss : 0.138\n",
      "Epoch: 9/10 => loss : 0.133\n",
      "Epoch: 10/10 => loss : 0.128\n",
      "['Center' 'Donut' 'Edge-Loc' 'Edge-Ring' 'Loc' 'Near-full' 'Random'\n",
      " 'Scratch']\n",
      "After Generate resized_wm shape : torch.Size([44320, 3, 64, 64]), label_wm shape : (44320, 1)\n"
     ]
    }
   ],
   "source": [
    "if autoencoder == 'X':\n",
    "    pass\n",
    "else:\n",
    "    #Convolutional Autoencoder\n",
    "    # parameter\n",
    "    args = {\n",
    "        'BATCH_SIZE': 16,\n",
    "            'LEARNING_RATE': 0.001,\n",
    "            'NUM_EPOCH': 10\n",
    "            }\n",
    "\n",
    "    class ConvAutoEncoder(nn.Module):\n",
    "        def __init__(self):\n",
    "            super(ConvAutoEncoder, self).__init__()\n",
    "\n",
    "            # Encoder\n",
    "            self.cnn_layer1 = nn.Sequential(\n",
    "                            nn.Conv2d(3, 16, kernel_size=3, stride=1, padding=1),\n",
    "                            nn.ReLU(),\n",
    "                             nn.MaxPool2d(2,2))\n",
    "\n",
    "            self.cnn_layer2 = nn.Sequential(\n",
    "                                    nn.Conv2d(16, 32, kernel_size=3, stride=1, padding=1),\n",
    "                                    nn.ReLU(),\n",
    "                                     nn.MaxPool2d(2,2))\n",
    "\n",
    "            # Decoder\n",
    "            self.tran_cnn_layer1 = nn.Sequential(\n",
    "                            nn.ConvTranspose2d(32, 16, kernel_size = 2, stride = 2, padding=0),\n",
    "                            nn.ReLU())\n",
    "\n",
    "            self.tran_cnn_layer2 = nn.Sequential(\n",
    "                            nn.ConvTranspose2d(16, 3, kernel_size = 2, stride = 2, padding=0),\n",
    "                            nn.Sigmoid())\n",
    "\n",
    "        def encoder(self, x):\n",
    "            encode = self.cnn_layer1(x)\n",
    "            encode = self.cnn_layer2(encode)\n",
    "            return encode\n",
    "\n",
    "        def decoder(self, x):\n",
    "            decode = self.tran_cnn_layer1(x)\n",
    "            decode = self.tran_cnn_layer2(decode)\n",
    "            return decode\n",
    "\n",
    "        def forward(self, x):\n",
    "            output = self.encoder(x)\n",
    "            output = self.decoder(output)\n",
    "            return output\n",
    "\n",
    "    model = ConvAutoEncoder().to(DEVICE)\n",
    "    print(model)\n",
    "    criterion = nn.MSELoss()\n",
    "    optimizer = torch.optim.Adam(model.parameters(), lr=args['LEARNING_RATE'])\n",
    "\n",
    "\n",
    "    USE_CUDA = torch.cuda.is_available()\n",
    "    DEVICE = torch.device(\"cuda\" if USE_CUDA else \"cpu\")\n",
    "    train_loader  = torch.utils.data.DataLoader(resized_wm, args['BATCH_SIZE'], shuffle=True)\n",
    "\n",
    "\n",
    "    steps = 0\n",
    "    print(resized_wm.shape)\n",
    "    total_steps = len(train_loader)\n",
    "    losses =[]\n",
    "    iterations = []\n",
    "    for epoch in range(args['NUM_EPOCH']):\n",
    "        running_loss = 0.0\n",
    "        for i,wafer in enumerate(train_loader):\n",
    "            steps += 1\n",
    "            wafer = wafer.to(DEVICE)\n",
    "            optimizer.zero_grad()\n",
    "            outputs = model(wafer)\n",
    "            loss = criterion(outputs, wafer) #autoencoder loss : compare input & output\n",
    "            loss.backward()\n",
    "            running_loss += loss.item()*wafer.shape[0]\n",
    "            optimizer.step()\n",
    "            if steps % total_steps == 0:\n",
    "                model.eval()\n",
    "                print('Epoch: {}/{}'.format(epoch+1, args['NUM_EPOCH']),\n",
    "                     \"=> loss : %.3f\"%(running_loss/total_steps))\n",
    "                steps = 0\n",
    "                iterations.append(i)\n",
    "                losses.append(running_loss / total_steps)\n",
    "                model.train()\n",
    "\n",
    "\n",
    "    import torch.nn.init\n",
    "    # augment function define\n",
    "    def gen_data(wafer, label):\n",
    "      gen_x = torch.zeros((1, 3, 64, 64))\n",
    "      with torch.no_grad():\n",
    "        encoded_x = model.encoder(wafer).to(torch.device('cpu'))\n",
    "        # dummy array for collecting noised wafer\n",
    "        # Make wafer until total # of wafer to 2000\n",
    "        for i in range((1000//len(wafer)) + 1):\n",
    "          noised_encoded_x = (encoded_x + torch.from_numpy(np.random.normal(loc=0, scale=0.1, size = (len(encoded_x), 32, 16, 16))).to(torch.device('cpu'))).to(DEVICE)\n",
    "          noised_decoded_x = model.decoder(noised_encoded_x.float()).to(torch.device('cpu'))\n",
    "          gen_x = torch.cat([gen_x, noised_decoded_x], axis=0)\n",
    "        # also make label vector with same length\n",
    "        gen_y = np.full((len(gen_x), 1), label)\n",
    "        # return date without 1st dummy data.\n",
    "      del encoded_x, noised_encoded_x, noised_decoded_x\n",
    "      return gen_x, gen_y\n",
    "\n",
    "\n",
    "    faulty_case = np.unique(label_wm)\n",
    "    print(faulty_case)\n",
    "\n",
    "\n",
    "    # Augmentation for all faulty case.\n",
    "    for f in faulty_case :\n",
    "        # skip none case\n",
    "        if f == 'none' :\n",
    "            continue\n",
    "        gen_x, gen_y = gen_data(resized_wm[np.where(label_wm==f)[0]].to(DEVICE), f)\n",
    "        resized_wm = torch.cat([resized_wm.to(torch.device('cpu')), gen_x], axis=0)\n",
    "        label_wm = np.concatenate((label_wm, gen_y))\n",
    "\n",
    "    print('After Generate resized_wm shape : {}, label_wm shape : {}'.format(resized_wm.shape, label_wm.shape))"
   ]
  },
  {
   "cell_type": "markdown",
   "metadata": {
    "id": "W_gWit11zmYJ"
   },
   "source": [
    "모델 학습"
   ]
  },
  {
   "cell_type": "code",
   "execution_count": null,
   "metadata": {
    "id": "I74h4CsBZOh-"
   },
   "outputs": [],
   "source": [
    "# Transforms 정의\n",
    "\n",
    "# 학습 데이터용 : 정규화에 반전과 RandomErasing 추가\n",
    "transform_train = transforms.Compose([\n",
    "  transforms.RandomHorizontalFlip(p=0.5),\n",
    "  transforms.Normalize(0.5, 0.5),\n",
    "  transforms.RandomErasing(p=0.5, scale=(0.02, 0.33), ratio=(0.3, 3.3), value=0, inplace=False)\n",
    "])\n",
    "\n",
    "# 검증 데이터용 : 정규화만 실시\n",
    "transform = transforms.Compose([\n",
    "  transforms.Normalize(0.5, 0.5)\n",
    "])"
   ]
  },
  {
   "cell_type": "code",
   "execution_count": null,
   "metadata": {
    "colab": {
     "base_uri": "https://localhost:8080/"
    },
    "id": "WYm9bYbJZOkY",
    "outputId": "e1f517f9-2e9a-4154-fca0-fc43141fb463"
   },
   "outputs": [
    {
     "name": "stdout",
     "output_type": "stream",
     "text": [
      "i : 0, l : Center\n",
      "i : 1, l : Donut\n",
      "i : 2, l : Edge-Loc\n",
      "i : 3, l : Edge-Ring\n",
      "i : 4, l : Loc\n",
      "i : 5, l : Near-full\n",
      "i : 6, l : Random\n",
      "i : 7, l : Scratch\n"
     ]
    }
   ],
   "source": [
    "# one-hot-encoding\n",
    "for i, l in enumerate(faulty_case):\n",
    "    label_wm[label_wm==l] = i\n",
    "    label_wm_test[label_wm_test==l] = i\n",
    "    print('i : {}, l : {}'.format(i, l))\n",
    "def _to_one_hot(y, num_classes):\n",
    "    scatter_dim = len(y.size())\n",
    "    y_tensor = y.view(*y.size(), -1)\n",
    "    zeros = torch.zeros(*y.size(), num_classes, dtype=y.dtype)\n",
    "    return zeros.scatter(scatter_dim, y_tensor, 1)\n",
    "label_wm_test = _to_one_hot(torch.as_tensor(np.int64(label_wm_test)), num_classes=8)\n",
    "label_wm = _to_one_hot(torch.as_tensor(np.int64(label_wm)), num_classes=8)"
   ]
  },
  {
   "cell_type": "code",
   "execution_count": null,
   "metadata": {
    "id": "fZE7R7MwapO7"
   },
   "outputs": [],
   "source": [
    "# ResNet : residual block이 겹겹이 쌓여 구성된 모델\n",
    "# residual block 정의\n",
    "\n",
    "import torch.utils.data as data\n",
    "class BasicDataset(data.Dataset):\n",
    "  def __init__(self,data,label,transform):\n",
    "    super(BasicDataset, self).__init__()\n",
    "    self.data=data\n",
    "    self.label=label\n",
    "    self.transform=transform\n",
    "  def __len__(self):\n",
    "    return len(self.label)\n",
    "\n",
    "  def __getitem__(self, idx):\n",
    "    sample_X = self.data[idx]\n",
    "    sample_y = self.label[idx]\n",
    "    if self.transform:\n",
    "      sample_X = self.transform(sample_X)\n",
    "    return sample_X, sample_y\n",
    "class BasicBlock(nn.Module):\n",
    "    expansion = 1\n",
    "    def __init__(self, in_channels, out_channels, stride=1):\n",
    "        super().__init__()\n",
    "\n",
    "        # BatchNorm에 bias가 포함되어 있으므로, conv2d는 bias=False로 설정합니다.\n",
    "        self.residual_function = nn.Sequential(\n",
    "            nn.Conv2d(in_channels, out_channels, kernel_size=3, stride=stride, padding=1, bias=False),\n",
    "            nn.BatchNorm2d(out_channels),\n",
    "            nn.ReLU(),\n",
    "            nn.Conv2d(out_channels, out_channels * BasicBlock.expansion, kernel_size=3, stride=1, padding=1, bias=False),\n",
    "            nn.BatchNorm2d(out_channels * BasicBlock.expansion),\n",
    "        )\n",
    "\n",
    "        # identity mapping, input과 output의 feature map size, filter 수가 동일한 경우 사용.\n",
    "        self.shortcut = nn.Sequential()\n",
    "\n",
    "        self.relu = nn.ReLU()\n",
    "\n",
    "        # projection mapping using 1x1conv\n",
    "        if stride != 1 or in_channels != BasicBlock.expansion * out_channels:\n",
    "            self.shortcut = nn.Sequential(\n",
    "                nn.Conv2d(in_channels, out_channels * BasicBlock.expansion, kernel_size=1, stride=stride, bias=False),\n",
    "                nn.BatchNorm2d(out_channels * BasicBlock.expansion)\n",
    "            )\n",
    "\n",
    "    def forward(self, x):\n",
    "        x = self.residual_function(x) + self.shortcut(x)\n",
    "        x = self.relu(x)\n",
    "        return x\n",
    "\n",
    "\n",
    "class BottleNeck(nn.Module):\n",
    "    expansion = 4\n",
    "    def __init__(self, in_channels, out_channels, stride=1):\n",
    "        super().__init__()\n",
    "\n",
    "        self.residual_function = nn.Sequential(\n",
    "            nn.Conv2d(in_channels, out_channels, kernel_size=1, stride=1, bias=False),\n",
    "            nn.BatchNorm2d(out_channels),\n",
    "            nn.ReLU(),\n",
    "            nn.Conv2d(out_channels, out_channels, kernel_size=3, stride=stride, padding=1, bias=False),\n",
    "            nn.BatchNorm2d(out_channels),\n",
    "            nn.ReLU(),\n",
    "            nn.Conv2d(out_channels, out_channels * BottleNeck.expansion, kernel_size=1, stride=1, bias=False),\n",
    "            nn.BatchNorm2d(out_channels * BottleNeck.expansion),\n",
    "        )\n",
    "\n",
    "        self.shortcut = nn.Sequential()\n",
    "\n",
    "        self.relu = nn.ReLU()\n",
    "\n",
    "        if stride != 1 or in_channels != out_channels * BottleNeck.expansion:\n",
    "            self.shortcut = nn.Sequential(\n",
    "                nn.Conv2d(in_channels, out_channels*BottleNeck.expansion, kernel_size=1, stride=stride, bias=False),\n",
    "                nn.BatchNorm2d(out_channels*BottleNeck.expansion)\n",
    "            )\n",
    "\n",
    "    def forward(self, x):\n",
    "        x = self.residual_function(x) + self.shortcut(x)\n",
    "        x = self.relu(x)\n",
    "        return x"
   ]
  },
  {
   "cell_type": "code",
   "execution_count": null,
   "metadata": {
    "id": "8pOcEFtbariL"
   },
   "outputs": [],
   "source": [
    "class ResNet(nn.Module):\n",
    "    def __init__(self, block, num_block, num_classes=8, init_weights=True):\n",
    "        super().__init__()\n",
    "\n",
    "        self.in_channels=64\n",
    "\n",
    "        self.conv1 = nn.Sequential(\n",
    "            nn.Conv2d(3, 64, kernel_size=7, stride=2, padding=3, bias=False),\n",
    "            nn.BatchNorm2d(64),\n",
    "            nn.ReLU(),\n",
    "            nn.MaxPool2d(kernel_size=3, stride=2, padding=1)\n",
    "        )\n",
    "\n",
    "        self.conv2_x = self._make_layer(block, 64, num_block[0], 1)\n",
    "        self.conv3_x = self._make_layer(block, 128, num_block[1], 2)\n",
    "        self.conv4_x = self._make_layer(block, 256, num_block[2], 2)\n",
    "        self.conv5_x = self._make_layer(block, 512, num_block[3], 2)\n",
    "\n",
    "        self.avg_pool = nn.AdaptiveAvgPool2d((1,1))\n",
    "        self.fc = nn.Linear(512 * block.expansion, num_classes)\n",
    "\n",
    "        # weights inittialization\n",
    "        if init_weights:\n",
    "            self._initialize_weights()\n",
    "\n",
    "    def _make_layer(self, block, out_channels, num_blocks, stride):\n",
    "        strides = [stride] + [1] * (num_blocks - 1)\n",
    "        layers = []\n",
    "        for stride in strides:\n",
    "            layers.append(block(self.in_channels, out_channels, stride))\n",
    "            self.in_channels = out_channels * block.expansion\n",
    "\n",
    "        return nn.Sequential(*layers)\n",
    "\n",
    "    def forward(self,x):\n",
    "        output = self.conv1(x)\n",
    "        output = self.conv2_x(output)\n",
    "        x = self.conv3_x(output)\n",
    "        x = self.conv4_x(x)\n",
    "        x = self.conv5_x(x)\n",
    "        x = self.avg_pool(x)\n",
    "        x = x.view(x.size(0), -1)\n",
    "        x = self.fc(x)\n",
    "        return x\n",
    "\n",
    "    # define weight initialization function\n",
    "    def _initialize_weights(self):\n",
    "        for m in self.modules():\n",
    "            if isinstance(m, nn.Conv2d):\n",
    "                nn.init.kaiming_normal_(m.weight, mode='fan_out', nonlinearity='relu')\n",
    "                if m.bias is not None:\n",
    "                    nn.init.constant_(m.bias, 0)\n",
    "            elif isinstance(m, nn.BatchNorm2d):\n",
    "                nn.init.constant_(m.weight, 1)\n",
    "                nn.init.constant_(m.bias, 0)\n",
    "            elif isinstance(m, nn.Linear):\n",
    "                nn.init.normal_(m.weight, 0, 0.01)\n",
    "                nn.init.constant_(m.bias, 0)\n",
    "\n",
    "def resnet18():\n",
    "    return ResNet(BasicBlock, [2,2,2,2])\n",
    "\n",
    "def resnet34():\n",
    "    return ResNet(BasicBlock, [3, 4, 6, 3])\n",
    "\n",
    "def resnet50():\n",
    "    return ResNet(BottleNeck, [3,4,6,3])\n",
    "\n",
    "def resnet101():\n",
    "    return ResNet(BottleNeck, [3, 4, 23, 3])\n",
    "\n",
    "def resnet152():\n",
    "    return ResNet(BottleNeck, [3, 8, 36, 3])"
   ]
  },
  {
   "cell_type": "code",
   "execution_count": null,
   "metadata": {
    "id": "dwBaz50zdbmb"
   },
   "outputs": [],
   "source": [
    "from sklearn.model_selection import train_test_split\n",
    "\n",
    "# train : test = 8 : 2\n",
    "\n",
    "\n",
    "# 전체 데이터를 train, test로 분할\n",
    "train_X, test_X, train_Y, test_Y = train_test_split(resized_wm, label_wm, train_size=0.8, random_state=42)\n",
    "a=torch.cat((train_X,test_X))\n",
    "b=torch.cat((train_Y,test_Y))\n",
    "# 데이터셋 생성\n",
    "dataset_train = BasicDataset(a, b, transform=transform_train)\n",
    "dataset_test = BasicDataset(resized_wm_test, label_wm_test, transform=transform)"
   ]
  },
  {
   "cell_type": "code",
   "execution_count": null,
   "metadata": {
    "id": "cXeX5_lUas55"
   },
   "outputs": [],
   "source": [
    "model = resnet34().to(DEVICE)"
   ]
  },
  {
   "cell_type": "code",
   "execution_count": null,
   "metadata": {
    "id": "Tla-R4zEbJeb"
   },
   "outputs": [],
   "source": [
    "args = {\n",
    "\t'BATCH_SIZE': 256,\n",
    "        'LEARNING_RATE': 0.001,\n",
    "        'NUM_EPOCH': 10\n",
    "        }"
   ]
  },
  {
   "cell_type": "code",
   "execution_count": null,
   "metadata": {
    "colab": {
     "base_uri": "https://localhost:8080/"
    },
    "id": "g7XkSnfZcDfe",
    "outputId": "a863cae9-9a08-454f-f563-8c0fb0509957"
   },
   "outputs": [
    {
     "data": {
      "text/plain": [
       "<torch._C.Generator at 0x78c084048890>"
      ]
     },
     "execution_count": 34,
     "metadata": {},
     "output_type": "execute_result"
    }
   ],
   "source": [
    "criterion = torch.nn.CrossEntropyLoss().to(DEVICE) # 비용 함수에 소프트맥스 함수 포함되어져 있음.\n",
    "optimizer = torch.optim.Adam(model.parameters(), lr=args['LEARNING_RATE'])\n",
    "torch.manual_seed(42)"
   ]
  },
  {
   "cell_type": "code",
   "execution_count": null,
   "metadata": {
    "id": "3CIF-8XYbMQi"
   },
   "outputs": [],
   "source": [
    "# 추가\n",
    "class SaveBestModel:\n",
    "    def __init__(\n",
    "        self, best_train_loss=float('inf')\n",
    "    ):\n",
    "        self.best_train_loss = best_train_loss\n",
    "\n",
    "    def __call__(\n",
    "        self, current_train_loss,\n",
    "        epoch, model, optimizer, criterion\n",
    "    ):\n",
    "        if current_train_loss < self.best_train_loss:\n",
    "            self.best_train_loss = current_train_loss\n",
    "            print(f\"\\nBest train loss: {self.best_train_loss}\")\n",
    "            print(f\"\\nSaving best model for epoch: {epoch+1}\\n\")\n",
    "            torch.save({\n",
    "                'epoch': epoch+1,\n",
    "                'model_state_dict': model.state_dict(),\n",
    "                'optimizer_state_dict': optimizer.state_dict(),\n",
    "                'loss': criterion,\n",
    "                }, 'outputs/best_model.pth')\n",
    "\n",
    "save_best_model = SaveBestModel()"
   ]
  },
  {
   "cell_type": "code",
   "execution_count": null,
   "metadata": {
    "id": "2jboMRczbNNT"
   },
   "outputs": [],
   "source": [
    "def train_epoch(model, dataloader, loss_fn, optimizer):\n",
    "    train_loss,train_correct=0.0,0\n",
    "    model.train()\n",
    "    for images, labels in dataloader:\n",
    "        images,labels = images.to(DEVICE),labels.to(DEVICE).reshape(args['BATCH_SIZE'], 8)\n",
    "        optimizer.zero_grad()\n",
    "        output = model(images)\n",
    "        labels = torch.argmax(labels, dim=1)\n",
    "        loss = loss_fn(output,labels)\n",
    "        loss.backward()\n",
    "        optimizer.step()\n",
    "        train_loss += loss.item() * images.size(0)\n",
    "        predictions = torch.argmax(output, 1)\n",
    "        train_correct += (predictions == labels).sum().item()\n",
    "    print(train_correct)\n",
    "    return train_loss,train_correct\n",
    "\n",
    "def test_epoch(model, dataloader, loss_fn):\n",
    "    test_loss, test_correct = 0.0, 0\n",
    "    model.eval()\n",
    "    y_true, y_pred = [], []\n",
    "    for images, labels in dataloader:\n",
    "        images,labels = images.to(DEVICE),labels.to(DEVICE).reshape(args['BATCH_SIZE'], 8)\n",
    "        output = model(images)\n",
    "        labels = torch.argmax(labels, dim=1)\n",
    "        loss=loss_fn(output, labels)\n",
    "        test_loss += loss.item() * images.size(0)\n",
    "        predictions = torch.argmax(output, 1)\n",
    "        test_correct += (predictions == labels).sum().item()\n",
    "        y_true += labels.tolist()\n",
    "        y_pred += predictions.tolist()\n",
    "    return test_loss, test_correct, y_true, y_pred\n"
   ]
  },
  {
   "cell_type": "code",
   "execution_count": null,
   "metadata": {
    "id": "djWfgn6lbOUp"
   },
   "outputs": [],
   "source": [
    "import os\n",
    "\n",
    "# create 'outputs' directory if it doesn't exist\n",
    "if not os.path.exists('outputs'):\n",
    "    os.makedirs('outputs')\n",
    "\n",
    "# specify model saving path relative to 'outputs' directory\n",
    "model_path = 'outputs/best_model.pt'"
   ]
  },
  {
   "cell_type": "code",
   "execution_count": null,
   "metadata": {
    "colab": {
     "base_uri": "https://localhost:8080/"
    },
    "id": "teR_tOC7bO6F",
    "outputId": "f8348a32-7931-4308-bd01-07032587e6a1"
   },
   "outputs": [
    {
     "name": "stdout",
     "output_type": "stream",
     "text": [
      "35387\n",
      "Epoch:1/10 AVG Training Loss:0.524 AVG Training Acc: 79.84 % \n",
      "\n",
      "Best train loss: 0.524422108481507\n",
      "\n",
      "Saving best model for epoch: 1\n",
      "\n",
      "38778\n",
      "Epoch:2/10 AVG Training Loss:0.334 AVG Training Acc: 87.50 % \n",
      "\n",
      "Best train loss: 0.33381857415829325\n",
      "\n",
      "Saving best model for epoch: 2\n",
      "\n",
      "39901\n",
      "Epoch:3/10 AVG Training Loss:0.267 AVG Training Acc: 90.03 % \n",
      "\n",
      "Best train loss: 0.2673504706324223\n",
      "\n",
      "Saving best model for epoch: 3\n",
      "\n",
      "40481\n",
      "Epoch:4/10 AVG Training Loss:0.233 AVG Training Acc: 91.34 % \n",
      "\n",
      "Best train loss: 0.23272159280329405\n",
      "\n",
      "Saving best model for epoch: 4\n",
      "\n",
      "40884\n",
      "Epoch:5/10 AVG Training Loss:0.207 AVG Training Acc: 92.25 % \n",
      "\n",
      "Best train loss: 0.20679606487604685\n",
      "\n",
      "Saving best model for epoch: 5\n",
      "\n",
      "41237\n",
      "Epoch:6/10 AVG Training Loss:0.190 AVG Training Acc: 93.04 % \n",
      "\n",
      "Best train loss: 0.1895159081861861\n",
      "\n",
      "Saving best model for epoch: 6\n",
      "\n",
      "41543\n",
      "Epoch:7/10 AVG Training Loss:0.170 AVG Training Acc: 93.73 % \n",
      "\n",
      "Best train loss: 0.1704945318535347\n",
      "\n",
      "Saving best model for epoch: 7\n",
      "\n",
      "41863\n",
      "Epoch:8/10 AVG Training Loss:0.149 AVG Training Acc: 94.46 % \n",
      "\n",
      "Best train loss: 0.14940889522917433\n",
      "\n",
      "Saving best model for epoch: 8\n",
      "\n",
      "41973\n",
      "Epoch:9/10 AVG Training Loss:0.145 AVG Training Acc: 94.70 % \n",
      "\n",
      "Best train loss: 0.1452217839685158\n",
      "\n",
      "Saving best model for epoch: 9\n",
      "\n",
      "42175\n",
      "Epoch:10/10 AVG Training Loss:0.131 AVG Training Acc: 95.16 % \n",
      "\n",
      "Best train loss: 0.13051715478139664\n",
      "\n",
      "Saving best model for epoch: 10\n",
      "\n",
      "Test Loss: 0.284 Test Accuracy: 86.92%\n"
     ]
    }
   ],
   "source": [
    "load = False\n",
    "if load == False:\n",
    "    train_loader = DataLoader(dataset_train, batch_size=args['BATCH_SIZE'], drop_last=True)\n",
    "    history = {'train_loss': [], 'train_acc':[]}\n",
    "\n",
    "    for epoch in range(args['NUM_EPOCH']):\n",
    "      train_loss, train_correct=train_epoch(model,train_loader,criterion,optimizer)\n",
    "      train_loss = train_loss / len(train_loader.sampler)\n",
    "      train_acc = train_correct / len(train_loader.sampler) * 100\n",
    "\n",
    "      print(\"Epoch:{}/{} AVG Training Loss:{:.3f} AVG Training Acc: {:.2f} % \".format(epoch + 1, args['NUM_EPOCH'],train_loss ,train_acc))\n",
    "      history['train_loss'].append(train_loss)\n",
    "      history['train_acc'].append(train_acc)\n",
    "      save_best_model(\n",
    "          train_loss, epoch, model, optimizer, criterion\n",
    "           )\n",
    "    # load best model\n",
    "    checkpoint = torch.load('outputs/best_model.pth')\n",
    "    model.load_state_dict(checkpoint['model_state_dict'])\n",
    "\n",
    "    # test model using test_epoch function\n",
    "    test_loader = DataLoader(dataset_test, batch_size=args['BATCH_SIZE'], drop_last=True)\n",
    "    test_loss, test_correct, y_true, y_pred = test_epoch(model, test_loader, criterion)\n",
    "\n",
    "    # calculate test set accuracy and loss\n",
    "    test_loss /= len(test_loader.dataset)\n",
    "    test_acc = 100. * test_correct / len(test_loader.dataset)\n",
    "    print(f\"Test Loss: {test_loss:.3f} Test Accuracy: {test_acc:.2f}%\")\n",
    "else:\n",
    "    # load best model\n",
    "    checkpoint = torch.load('outputs/best_model.pth')\n",
    "    model.load_state_dict(checkpoint['model_state_dict'])\n",
    "\n",
    "    # test model using test_epoch function\n",
    "    test_loader = DataLoader(dataset_test, batch_size=args['BATCH_SIZE'], drop_last=True)\n",
    "    test_loss, test_correct, y_true, y_pred = test_epoch(model, test_loader, criterion)\n",
    "\n",
    "    # calculate test set accuracy and loss\n",
    "    test_loss /= len(test_loader.dataset)\n",
    "    test_acc = 100. * test_correct / len(test_loader.dataset)\n",
    "    print(f\"Test Loss: {test_loss:.3f} Test Accuracy: {test_acc:.2f}%\")"
   ]
  },
  {
   "cell_type": "code",
   "execution_count": null,
   "metadata": {
    "id": "OpeExQnqbVSg"
   },
   "outputs": [],
   "source": [
    "def plot_confusion_matrix(cm, classes,\n",
    "                          normalize=False,\n",
    "                          title='Confusion matrix',\n",
    "                          cmap=plt.cm.Blues):\n",
    "\n",
    "    if normalize:\n",
    "        cm = cm.astype('float') / cm.sum(axis=1)[:, np.newaxis]\n",
    "\n",
    "    plt.imshow(cm, interpolation='nearest', cmap=cmap)\n",
    "    plt.title(title)\n",
    "    plt.colorbar()\n",
    "    tick_marks = np.arange(len(classes))\n",
    "    plt.xticks(tick_marks, classes, rotation=45)\n",
    "    plt.yticks(tick_marks, classes)\n",
    "\n",
    "    fmt = '.2f' if normalize else 'd'\n",
    "    thresh = cm.max() / 2.\n",
    "    for i, j in itertools.product(range(cm.shape[0]), range(cm.shape[1])):\n",
    "        plt.text(j, i, format(cm[i, j], fmt),\n",
    "                 horizontalalignment=\"center\",\n",
    "                 color=\"white\" if cm[i, j] > thresh else \"black\")\n",
    "\n",
    "    plt.ylabel('True label')\n",
    "    plt.xlabel('Predicted label')\n",
    "    plt.tight_layout()\n"
   ]
  },
  {
   "cell_type": "code",
   "execution_count": null,
   "metadata": {
    "colab": {
     "base_uri": "https://localhost:8080/",
     "height": 837
    },
    "id": "fAkXxxjxb4zF",
    "outputId": "85bf8a33-c589-4269-9d62-a70bca50eb8b"
   },
   "outputs": [
    {
     "data": {
      "image/png": "[encoded data removed]",
      "text/plain": [
       "<Figure size 1000x1000 with 2 Axes>"
      ]
     },
     "metadata": {},
     "output_type": "display_data"
    }
   ],
   "source": [
    "from sklearn.metrics import confusion_matrix\n",
    "import itertools\n",
    "\n",
    "test_loss, test_correct, y_true, y_pred = test_epoch(model, test_loader, criterion)\n",
    "\n",
    "cm = confusion_matrix(y_true, y_pred)\n",
    "classes = [str(i) for i in range(8)]\n",
    "\n",
    "# Plot the confusion matrix with larger font size\n",
    "plt.figure(figsize=(10, 10))\n",
    "plt.rcParams.update({'font.size': 10})  # 폰트 크기 조정\n",
    "plot_confusion_matrix(cm, faulty_case, normalize=True, title='Normalized confusion matrix')\n",
    "plt.show()\n"
   ]
  },
  {
   "cell_type": "code",
   "execution_count": null,
   "metadata": {
    "id": "o53hq_YLdSjI"
   },
   "outputs": [],
   "source": []
  }
 ],
 "metadata": {
  "accelerator": "GPU",
  "colab": {
   "gpuType": "T4",
   "machine_shape": "hm",
   "provenance": []
  },
  "kernelspec": {
   "display_name": "Python 3 (ipykernel)",
   "language": "python",
   "name": "python3"
  },
  "language_info": {
   "codemirror_mode": {
    "name": "ipython",
    "version": 3
   },
   "file_extension": ".py",
   "mimetype": "text/x-python",
   "name": "python",
   "nbconvert_exporter": "python",
   "pygments_lexer": "ipython3",
   "version": "3.10.9"
  }
 },
 "nbformat": 4,
 "nbformat_minor": 1
}
