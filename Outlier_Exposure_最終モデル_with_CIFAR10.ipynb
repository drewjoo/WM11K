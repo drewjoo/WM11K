{
 "cells": [
  {
   "cell_type": "code",
   "execution_count": 1,
   "id": "04000175",
   "metadata": {},
   "outputs": [
    {
     "name": "stderr",
     "output_type": "stream",
     "text": [
      "C:\\Users\\PC\\AppData\\Local\\Temp\\ipykernel_22388\\2823742555.py:8: MatplotlibDeprecationWarning: The seaborn styles shipped by Matplotlib are deprecated since 3.6, as they no longer correspond to the styles shipped by seaborn. However, they will remain available as 'seaborn-v0_8-<style>'. Alternatively, directly use the seaborn API instead.\n",
      "  plt.style.use('seaborn')\n"
     ]
    }
   ],
   "source": [
    "# Load in our libraries\n",
    "import pandas as pd\n",
    "import numpy as np\n",
    "import sklearn\n",
    "import seaborn as sns\n",
    "import matplotlib.pyplot as plt\n",
    "from sklearn.model_selection import KFold\n",
    "plt.style.use('seaborn')\n",
    "sns.set(font_scale=2)\n",
    "from collections import Counter\n",
    "\n",
    "%matplotlib inline\n",
    "import torch\n",
    "import torchvision\n",
    "from PIL import Image\n",
    "import torch.nn as nn\n",
    "import torch.nn.functional as F\n",
    "import torch.optim as optim\n",
    "import torch.nn.init\n",
    "from torch.utils.data import Dataset, DataLoader,TensorDataset,random_split,SubsetRandomSampler, ConcatDataset\n",
    "import torch\n",
    "from torchvision import transforms\n",
    "from PIL import Image\n",
    "\n",
    "#CUDA 메모리 할당 / 디바이스 할당\n",
    "USE_CUDA = torch.cuda.is_available()\n",
    "DEVICE = torch.device(\"cuda\" if USE_CUDA else \"cpu\")"
   ]
  },
  {
   "cell_type": "code",
   "execution_count": 2,
   "id": "1b629e4d",
   "metadata": {},
   "outputs": [],
   "source": [
    "a = np.load('cifar10_train_data.npy')\n",
    "a = torch.Tensor(a)\n",
    "\n",
    "b = np.load('cifar10_train_label.npy')\n",
    "b = torch.Tensor(b)\n",
    "\n",
    "c = np.load('cifar10_test_data.npy')\n",
    "c = torch.Tensor(c)\n",
    "\n",
    "d = np.load('cifar10_test_label.npy')\n",
    "d = torch.Tensor(d)\n",
    "\n",
    "classes = b[0].shape[1] # 8"
   ]
  },
  {
   "cell_type": "code",
   "execution_count": 3,
   "id": "da6bbdf4",
   "metadata": {},
   "outputs": [],
   "source": [
    "# ResNet : residual block이 겹겹이 쌓여 구성된 모델\n",
    "# residual block 정의\n",
    "\n",
    "import torch.utils.data as data\n",
    "\n",
    "class BasicDataset(data.Dataset):\n",
    "  def __init__(self,data,label,transform):\n",
    "    super(BasicDataset, self).__init__()\n",
    "    self.data=data\n",
    "    self.label=label\n",
    "    self.transform=transform\n",
    "  def __len__(self):\n",
    "    return len(self.label)\n",
    "\n",
    "  def __getitem__(self, idx):\n",
    "    sample_X = self.data[idx]\n",
    "    sample_y = self.label[idx]\n",
    "    if self.transform:\n",
    "      sample_X = self.transform(sample_X)\n",
    "    return sample_X, sample_y\n",
    "\n",
    "class BasicBlock(nn.Module):\n",
    "    expansion = 1\n",
    "    def __init__(self, in_channels, out_channels, stride=1):\n",
    "        super().__init__()\n",
    "\n",
    "        # BatchNorm에 bias가 포함되어 있으므로, conv2d는 bias=False로 설정합니다.\n",
    "        self.residual_function = nn.Sequential(\n",
    "            nn.Conv2d(in_channels, out_channels, kernel_size=3, stride=stride, padding=1, bias=False),\n",
    "            nn.BatchNorm2d(out_channels),\n",
    "            nn.ReLU(),\n",
    "            nn.Conv2d(out_channels, out_channels * BasicBlock.expansion, kernel_size=3, stride=1, padding=1, bias=False),\n",
    "            nn.BatchNorm2d(out_channels * BasicBlock.expansion),\n",
    "        )\n",
    "\n",
    "        # identity mapping, input과 output의 feature map size, filter 수가 동일한 경우 사용.\n",
    "        self.shortcut = nn.Sequential()\n",
    "\n",
    "        self.relu = nn.ReLU()\n",
    "\n",
    "        # projection mapping using 1x1conv\n",
    "        if stride != 1 or in_channels != BasicBlock.expansion * out_channels:\n",
    "            self.shortcut = nn.Sequential(\n",
    "                nn.Conv2d(in_channels, out_channels * BasicBlock.expansion, kernel_size=1, stride=stride, bias=False),\n",
    "                nn.BatchNorm2d(out_channels * BasicBlock.expansion)\n",
    "            )\n",
    "\n",
    "    def forward(self, x):\n",
    "        x = self.residual_function(x) + self.shortcut(x)\n",
    "        x = self.relu(x)\n",
    "        return x\n",
    "\n",
    "\n",
    "class BottleNeck(nn.Module):\n",
    "    expansion = 4\n",
    "    def __init__(self, in_channels, out_channels, stride=1):\n",
    "        super().__init__()\n",
    "\n",
    "        self.residual_function = nn.Sequential(\n",
    "            nn.Conv2d(in_channels, out_channels, kernel_size=1, stride=1, bias=False),\n",
    "            nn.BatchNorm2d(out_channels),\n",
    "            nn.ReLU(),\n",
    "            nn.Conv2d(out_channels, out_channels, kernel_size=3, stride=stride, padding=1, bias=False),\n",
    "            nn.BatchNorm2d(out_channels),\n",
    "            nn.ReLU(),\n",
    "            nn.Conv2d(out_channels, out_channels * BottleNeck.expansion, kernel_size=1, stride=1, bias=False),\n",
    "            nn.BatchNorm2d(out_channels * BottleNeck.expansion),\n",
    "        )\n",
    "\n",
    "        self.shortcut = nn.Sequential()\n",
    "\n",
    "        self.relu = nn.ReLU()\n",
    "\n",
    "        if stride != 1 or in_channels != out_channels * BottleNeck.expansion:\n",
    "            self.shortcut = nn.Sequential(\n",
    "                nn.Conv2d(in_channels, out_channels*BottleNeck.expansion, kernel_size=1, stride=stride, bias=False),\n",
    "                nn.BatchNorm2d(out_channels*BottleNeck.expansion)\n",
    "            )\n",
    "\n",
    "    def forward(self, x):\n",
    "        x = self.residual_function(x) + self.shortcut(x)\n",
    "        x = self.relu(x)\n",
    "        return x"
   ]
  },
  {
   "cell_type": "code",
   "execution_count": 4,
   "id": "b57fb699",
   "metadata": {},
   "outputs": [],
   "source": [
    "class ResNet(nn.Module):\n",
    "    def __init__(self, block, num_block, num_classes = classes, init_weights=True):\n",
    "        super().__init__()\n",
    "\n",
    "        self.in_channels=64\n",
    "\n",
    "        self.conv1 = nn.Sequential(\n",
    "            nn.Conv2d(3, 64, kernel_size=7, stride=2, padding=3, bias=False),\n",
    "            nn.BatchNorm2d(64),\n",
    "            nn.ReLU(),\n",
    "            nn.MaxPool2d(kernel_size=3, stride=2, padding=1)\n",
    "        )\n",
    "\n",
    "        self.conv2_x = self._make_layer(block, 64, num_block[0], 1)\n",
    "        self.conv3_x = self._make_layer(block, 128, num_block[1], 2)\n",
    "        self.conv4_x = self._make_layer(block, 256, num_block[2], 2)\n",
    "        self.conv5_x = self._make_layer(block, 512, num_block[3], 2)\n",
    "\n",
    "        self.avg_pool = nn.AdaptiveAvgPool2d((1,1))\n",
    "        self.fc = nn.Linear(512 * block.expansion, num_classes)\n",
    "\n",
    "        # weights inittialization\n",
    "        if init_weights:\n",
    "            self._initialize_weights()\n",
    "\n",
    "    def _make_layer(self, block, out_channels, num_blocks, stride):\n",
    "        strides = [stride] + [1] * (num_blocks - 1)\n",
    "        layers = []\n",
    "        for stride in strides:\n",
    "            layers.append(block(self.in_channels, out_channels, stride))\n",
    "            self.in_channels = out_channels * block.expansion\n",
    "\n",
    "        return nn.Sequential(*layers)\n",
    "\n",
    "    def forward(self,x):\n",
    "        output = self.conv1(x)\n",
    "        output = self.conv2_x(output)\n",
    "        x = self.conv3_x(output)\n",
    "        x = self.conv4_x(x)\n",
    "        x = self.conv5_x(x)\n",
    "        x = self.avg_pool(x)\n",
    "        x = x.view(x.size(0), -1)\n",
    "        x = self.fc(x)\n",
    "        return x\n",
    "\n",
    "    # define weight initialization function\n",
    "    def _initialize_weights(self):\n",
    "        for m in self.modules():\n",
    "            if isinstance(m, nn.Conv2d):\n",
    "                nn.init.kaiming_normal_(m.weight, mode='fan_out', nonlinearity='relu')\n",
    "                if m.bias is not None:\n",
    "                    nn.init.constant_(m.bias, 0)\n",
    "            elif isinstance(m, nn.BatchNorm2d):\n",
    "                nn.init.constant_(m.weight, 1)\n",
    "                nn.init.constant_(m.bias, 0)\n",
    "            elif isinstance(m, nn.Linear):\n",
    "                nn.init.normal_(m.weight, 0, 0.01)\n",
    "                nn.init.constant_(m.bias, 0)\n",
    "\n",
    "def resnet18():\n",
    "    return ResNet(BasicBlock, [2,2,2,2])\n",
    "\n",
    "def resnet34():\n",
    "    return ResNet(BasicBlock, [3, 4, 6, 3])\n",
    "\n",
    "def resnet50():\n",
    "    return ResNet(BottleNeck, [3,4,6,3])\n",
    "\n",
    "def resnet101():\n",
    "    return ResNet(BottleNeck, [3, 4, 23, 3])\n",
    "\n",
    "def resnet152():\n",
    "    return ResNet(BottleNeck, [3, 8, 36, 3])"
   ]
  },
  {
   "cell_type": "code",
   "execution_count": 5,
   "id": "cb3399da",
   "metadata": {},
   "outputs": [],
   "source": [
    "from sklearn.model_selection import train_test_split\n",
    "\n",
    "# train : test = 8 : 2\n",
    "\n",
    "# Transforms 정의\n",
    "# 학습 데이터용 : 정규화에 반전과 RandomErasing 추가\n",
    "transform_train = transforms.Compose([\n",
    "  transforms.RandomHorizontalFlip(p=0.5),\n",
    "  transforms.Normalize(mean=[0.5, 0.5, 0.5], std=[0.5, 0.5, 0.5])\n",
    "])\n",
    "\n",
    "# 검증 데이터용 : 정규화만 실시\n",
    "transform = transforms.Compose([\n",
    "  transforms.Normalize(mean=[0.5, 0.5, 0.5], std=[0.5, 0.5, 0.5])\n",
    "])\n",
    "\n",
    "#train_X, test_X, train_Y, test_Y = train_test_split(a, b, train_size=0.8, random_state=42)# 셔플\n",
    "\n",
    "# 데이터셋 생성\n",
    "#dataset_train = BasicDataset(train_X, train_Y, transform=transform_train)\n",
    "#dataset_test = BasicDataset(test_X, test_Y, transform=transform)\n",
    "\n",
    "dataset_train = BasicDataset(a, b, transform=transform_train)\n",
    "dataset_test = BasicDataset(c, d, transform=transform)"
   ]
  },
  {
   "cell_type": "markdown",
   "id": "56b7f7b2",
   "metadata": {},
   "source": [
    "# OOD"
   ]
  },
  {
   "cell_type": "code",
   "execution_count": 6,
   "id": "d7ce1908",
   "metadata": {},
   "outputs": [],
   "source": [
    "TinyImage = np.load('300K_random_images_64.npy')\n",
    "sample_indices = np.random.choice(300000, 50000, replace = False)\n",
    "OOD = torch.Tensor(TinyImage[sample_indices])\n",
    "\n",
    "desired_size = (50000, 1, 10)\n",
    "OOD_label = torch.zeros(desired_size)\n",
    "\n",
    "OOD_dataset = BasicDataset(OOD, OOD_label, transform = transform_train)"
   ]
  },
  {
   "cell_type": "markdown",
   "id": "677548c5",
   "metadata": {},
   "source": [
    "# Model"
   ]
  },
  {
   "cell_type": "code",
   "execution_count": 7,
   "id": "d5d7bac0",
   "metadata": {},
   "outputs": [
    {
     "data": {
      "text/plain": [
       "<torch._C.Generator at 0x1dde19a7bb0>"
      ]
     },
     "execution_count": 7,
     "metadata": {},
     "output_type": "execute_result"
    }
   ],
   "source": [
    "model = resnet34().to(DEVICE)\n",
    "\n",
    "args = {\n",
    "\t'BATCH_SIZE':64,\n",
    "        'LEARNING_RATE': 0.001,\n",
    "        'NUM_EPOCH': 10\n",
    "        }\n",
    "\n",
    "criterion = torch.nn.CrossEntropyLoss().to(DEVICE) # 비용 함수에 소프트맥스 함수 포함되어져 있음.\n",
    "optimizer = torch.optim.Adam(model.parameters(), lr=args['LEARNING_RATE'])\n",
    "torch.manual_seed(42)"
   ]
  },
  {
   "cell_type": "code",
   "execution_count": 8,
   "id": "c723fc61",
   "metadata": {},
   "outputs": [],
   "source": [
    "# 추가\n",
    "class SaveBestModel:\n",
    "    def __init__(\n",
    "        self, best_train_loss=float('inf')\n",
    "    ):\n",
    "        self.best_train_loss = best_train_loss\n",
    "\n",
    "    def __call__(\n",
    "        self, current_train_loss,\n",
    "        epoch, model, optimizer, criterion\n",
    "    ):\n",
    "        if current_train_loss < self.best_train_loss:\n",
    "            self.best_train_loss = current_train_loss\n",
    "            print(f\"\\nBest train loss: {self.best_train_loss}\")\n",
    "            print(f\"\\nSaving best model for epoch: {epoch+1}\\n\")\n",
    "            torch.save({\n",
    "                'epoch': epoch+1,\n",
    "                'model_state_dict': model.state_dict(),\n",
    "                'optimizer_state_dict': optimizer.state_dict(),\n",
    "                'loss': criterion,\n",
    "                }, 'outputs/best_model.pth')\n",
    "\n",
    "save_best_model = SaveBestModel()"
   ]
  },
  {
   "cell_type": "code",
   "execution_count": 9,
   "id": "5a9e8fe2",
   "metadata": {},
   "outputs": [],
   "source": [
    "# 연습용\n",
    "def train_epoch(model, train_loader_in, train_loader_out, loss_fn, optimizer):\n",
    "    train_loss,train_correct=0.0,0\n",
    "    model.train()\n",
    "    \n",
    "    #for images, labels in dataloader:\n",
    "    for (in_set, out_set) in zip(train_loader_in, train_loader_out):\n",
    "        data = torch.cat((in_set[0], out_set[0]), dim=0)\n",
    "        target = in_set[1]\n",
    "        \n",
    "        data, target = data.to(DEVICE), target.to(DEVICE).reshape(args['BATCH_SIZE'], classes)\n",
    "        \n",
    "        # forward\n",
    "        x = model(data)\n",
    "        \n",
    "        # backward\n",
    "        optimizer.zero_grad()\n",
    "        \n",
    "        target = torch.argmax(target, dim = 1)\n",
    "        loss = loss_fn(x[:len(in_set[0])], target)\n",
    "        # cross-entropy from softmax distribution to uniform distribution\n",
    "        loss += 0.5 * -(x[len(in_set[0]):].mean(1) - torch.logsumexp(x[len(in_set[0]):], dim=1)).mean()\n",
    "        \n",
    "        loss.backward()\n",
    "        optimizer.step()\n",
    "        \n",
    "        train_loss += loss.item() * target.shape[0]\n",
    "        predictions = torch.argmax(x[:len(in_set[0])], 1)\n",
    "        \n",
    "        train_correct += (predictions == target).sum().item()\n",
    "        \n",
    "\n",
    "    return train_loss, train_correct\n",
    "\n",
    "def test_epoch(model, dataloader, loss_fn):\n",
    "    test_loss, test_correct = 0.0, 0\n",
    "    model.eval()\n",
    "    y_true, y_pred = [], []\n",
    "    for images, labels in dataloader:\n",
    "        images,labels = images.to(DEVICE),labels.to(DEVICE).reshape(args['BATCH_SIZE'], classes)\n",
    "        output = model(images)\n",
    "        labels = torch.argmax(labels, dim=1)\n",
    "        loss=loss_fn(output, labels)\n",
    "        test_loss += loss.item() * images.size(0)\n",
    "        predictions = torch.argmax(output, 1)\n",
    "        test_correct += (predictions == labels).sum().item()\n",
    "        y_true += labels.tolist()\n",
    "        y_pred += predictions.tolist()\n",
    "    return test_loss, test_correct, y_true, y_pred"
   ]
  },
  {
   "cell_type": "code",
   "execution_count": 10,
   "id": "91fc23ba",
   "metadata": {},
   "outputs": [
    {
     "name": "stdout",
     "output_type": "stream",
     "text": [
      "Epoch:1/10 AVG Training Loss:2.662 AVG Training Acc: 52.64 % \n",
      "\n",
      "Best train loss: 2.662345378112793\n",
      "\n",
      "Saving best model for epoch: 1\n",
      "\n",
      "Epoch:2/10 AVG Training Loss:2.210 AVG Training Acc: 70.97 % \n",
      "\n",
      "Best train loss: 2.2096321524047853\n",
      "\n",
      "Saving best model for epoch: 2\n",
      "\n",
      "Epoch:3/10 AVG Training Loss:2.013 AVG Training Acc: 77.56 % \n",
      "\n",
      "Best train loss: 2.012673888244629\n",
      "\n",
      "Saving best model for epoch: 3\n",
      "\n",
      "Epoch:4/10 AVG Training Loss:1.887 AVG Training Acc: 81.84 % \n",
      "\n",
      "Best train loss: 1.8873052085876465\n",
      "\n",
      "Saving best model for epoch: 4\n",
      "\n",
      "Epoch:5/10 AVG Training Loss:1.800 AVG Training Acc: 84.48 % \n",
      "\n",
      "Best train loss: 1.7999817813110353\n",
      "\n",
      "Saving best model for epoch: 5\n",
      "\n",
      "Epoch:6/10 AVG Training Loss:1.727 AVG Training Acc: 86.62 % \n",
      "\n",
      "Best train loss: 1.7273366900634766\n",
      "\n",
      "Saving best model for epoch: 6\n",
      "\n",
      "Epoch:7/10 AVG Training Loss:1.667 AVG Training Acc: 88.64 % \n",
      "\n",
      "Best train loss: 1.6670925141906738\n",
      "\n",
      "Saving best model for epoch: 7\n",
      "\n",
      "Epoch:8/10 AVG Training Loss:1.614 AVG Training Acc: 90.26 % \n",
      "\n",
      "Best train loss: 1.6143359812927247\n",
      "\n",
      "Saving best model for epoch: 8\n",
      "\n",
      "Epoch:9/10 AVG Training Loss:1.563 AVG Training Acc: 91.75 % \n",
      "\n",
      "Best train loss: 1.562791175994873\n",
      "\n",
      "Saving best model for epoch: 9\n",
      "\n",
      "Epoch:10/10 AVG Training Loss:1.523 AVG Training Acc: 92.90 % \n",
      "\n",
      "Best train loss: 1.52301130569458\n",
      "\n",
      "Saving best model for epoch: 10\n",
      "\n",
      "Test Loss: 0.784 Test Accuracy: 77.11%\n"
     ]
    }
   ],
   "source": [
    "load = False # True 활용하면 model만 불러온다.\n",
    "if load == False:\n",
    "    train_loader_in = DataLoader(dataset_train, batch_size=args['BATCH_SIZE'], drop_last=True, shuffle = True)\n",
    "    train_loader_out = DataLoader(OOD_dataset, batch_size=args['BATCH_SIZE'], drop_last = True, shuffle = True)\n",
    "    history = {'train_loss': [], 'train_acc':[]}\n",
    "\n",
    "    for epoch in range(args['NUM_EPOCH']):\n",
    "      train_loss, train_correct=train_epoch(model,train_loader_in, train_loader_out, criterion,optimizer)\n",
    "      train_loss = train_loss / len(train_loader_out.sampler)\n",
    "      train_acc = train_correct / len(train_loader_out.sampler) * 100\n",
    "    \n",
    "      #print(train_correct)\n",
    "      #print(len(train_loader_in.sampler))\n",
    "    \n",
    "      print(\"Epoch:{}/{} AVG Training Loss:{:.3f} AVG Training Acc: {:.2f} % \".format(epoch + 1, args['NUM_EPOCH'],train_loss ,train_acc))\n",
    "      history['train_loss'].append(train_loss)\n",
    "      history['train_acc'].append(train_acc)\n",
    "      save_best_model(\n",
    "          train_loss, epoch, model, optimizer, criterion\n",
    "           )\n",
    "    # load best model\n",
    "    checkpoint = torch.load('outputs/best_model.pth')\n",
    "    model.load_state_dict(checkpoint['model_state_dict'])\n",
    "\n",
    "    # test model using test_epoch function\n",
    "    test_loader = DataLoader(dataset_test, batch_size=args['BATCH_SIZE'], drop_last=True)\n",
    "    test_loss, test_correct, y_true, y_pred = test_epoch(model, test_loader, criterion)\n",
    "\n",
    "    # calculate test set accuracy and loss\n",
    "    test_loss /= len(test_loader.dataset)\n",
    "    test_acc = 100. * test_correct / len(test_loader.dataset)\n",
    "    print(f\"Test Loss: {test_loss:.3f} Test Accuracy: {test_acc:.2f}%\")\n",
    "else:\n",
    "    # load best model\n",
    "    checkpoint = torch.load('outputs/best_model.pth')\n",
    "    model.load_state_dict(checkpoint['model_state_dict'])\n",
    "\n",
    "    # test model using test_epoch function\n",
    "    test_loader = DataLoader(dataset_test, batch_size=args['BATCH_SIZE'], drop_last=True)\n",
    "    test_loss, test_correct, y_true, y_pred = test_epoch(model, test_loader, criterion)\n",
    "\n",
    "    # calculate test set accuracy and loss\n",
    "    test_loss /= len(test_loader.dataset)\n",
    "    test_acc = 100. * test_correct / len(test_loader.dataset)\n",
    "    print(f\"Test Loss: {test_loss:.3f} Test Accuracy: {test_acc:.2f}%\")"
   ]
  },
  {
   "cell_type": "code",
   "execution_count": 11,
   "id": "478ee141",
   "metadata": {},
   "outputs": [
    {
     "data": {
      "text/plain": [
       "(10000,)"
      ]
     },
     "execution_count": 11,
     "metadata": {},
     "output_type": "execute_result"
    }
   ],
   "source": [
    "# 전체 데이터셋의 크기\n",
    "total_data_size = len(c)\n",
    "\n",
    "# 미니 배치 크기\n",
    "BATCH_SIZE = 64  # 원하는 배치 크기로 조정하세요\n",
    "\n",
    "# 모델을 평가 모드로 설정\n",
    "model.eval()\n",
    "\n",
    "# 결과를 저장할 리스트 초기화\n",
    "softmax_in_values = []\n",
    "\n",
    "# 미니 배치를 사용하여 데이터 처리\n",
    "for i in range(0, total_data_size, BATCH_SIZE):\n",
    "    batch_data = c[i:i + BATCH_SIZE]  # 미니 배치 데이터 추출\n",
    "    \n",
    "    with torch.no_grad():\n",
    "        # 미니 배치를 DEVICE로 이동\n",
    "        batch_data = batch_data.to(DEVICE)\n",
    "        \n",
    "        # 모델에 미니 배치 데이터 전달\n",
    "        output = model(batch_data)\n",
    "        \n",
    "        # 소프트맥스 함수를 적용하여 확률값 계산\n",
    "        softmax_output = torch.softmax(output, dim=1)\n",
    "        \n",
    "        # 각 이미지별로 가장 큰 소프트맥스 값을 가진 값을 추출\n",
    "        max_values = torch.max(softmax_output, axis=1).values\n",
    "        \n",
    "        # 결과를 리스트에 추가\n",
    "        softmax_in_values.extend(max_values.cpu().numpy())\n",
    "\n",
    "# 결과 리스트를 NumPy 배열로 변환\n",
    "softmax_in_values = np.array(softmax_in_values)\n",
    "softmax_in_values.shape  # 결과의 크기 확인"
   ]
  },
  {
   "cell_type": "code",
   "execution_count": 12,
   "id": "2ddb9704",
   "metadata": {},
   "outputs": [
    {
     "name": "stdout",
     "output_type": "stream",
     "text": [
      "0.15990189835429192\n"
     ]
    },
    {
     "data": {
      "text/plain": [
       "Text(0.5, 1.0, 'In Distribution max softmax score')"
      ]
     },
     "execution_count": 12,
     "metadata": {},
     "output_type": "execute_result"
    },
    {
     "data": {
      "image/png": "[encoded data removed]",
      "text/plain": [
       "<Figure size 800x550 with 1 Axes>"
      ]
     },
     "metadata": {},
     "output_type": "display_data"
    }
   ],
   "source": [
    "TPR95 = np.percentile(softmax_in_values, q=5)\n",
    "print(TPR95)\n",
    "plt.hist(softmax_in_values)\n",
    "plt.axvline(x=TPR95, color='red')\n",
    "plt.text(TPR95, 500, np.round(TPR95, 3), fontsize=12, color='black')\n",
    "plt.title('In Distribution max softmax score')"
   ]
  },
  {
   "cell_type": "markdown",
   "id": "7d262475",
   "metadata": {},
   "source": [
    "# OOD : Mixied WM811K dataset"
   ]
  },
  {
   "cell_type": "code",
   "execution_count": 13,
   "id": "eaa97765",
   "metadata": {},
   "outputs": [
    {
     "name": "stdout",
     "output_type": "stream",
     "text": [
      "(45000,)\n",
      "Counter({2: 22947, 3: 12570, 4: 3825, 0: 3702, 8: 1005, 6: 900, 7: 48, 1: 3})\n"
     ]
    }
   ],
   "source": [
    "import torch\n",
    "from collections import Counter\n",
    "\n",
    "# 전체 데이터 크기\n",
    "group_out = np.load('mixed_wm811k/OOD_45000.npy')\n",
    "group_out = torch.Tensor(group_out)\n",
    "total_data_size = len(group_out)\n",
    "\n",
    "# 미니 배치 크기\n",
    "BATCH_SIZE = 64  # 원하는 배치 크기로 조정하세요\n",
    "\n",
    "# 모델을 평가 모드로 설정\n",
    "model.eval()\n",
    "\n",
    "# 결과를 저장할 리스트 초기화\n",
    "softmax_out_values = []\n",
    "\n",
    "# 예측 클래스를 저장할 리스트 초기화\n",
    "predicted_classes = []\n",
    "\n",
    "# 미니 배치를 사용하여 데이터 처리\n",
    "for i in range(0, total_data_size, BATCH_SIZE):\n",
    "    batch_data = group_out[i:i + BATCH_SIZE]  # 미니 배치 데이터 추출\n",
    "    \n",
    "    with torch.no_grad():\n",
    "        # 미니 배치를 DEVICE로 이동\n",
    "        batch_data = batch_data.to(DEVICE)\n",
    "        \n",
    "        # 모델에 미니 배치 데이터 전달\n",
    "        output = model(batch_data)\n",
    "        \n",
    "        # 소프트맥스 함수를 적용하여 확률값 계산\n",
    "        softmax_output = torch.softmax(output, dim=1)\n",
    "        \n",
    "        # 각 이미지별로 가장 큰 소프트맥스 값을 가진 값을 추출\n",
    "        max_values = torch.max(softmax_output, axis=1).values\n",
    "        \n",
    "        # 결과를 리스트에 추가\n",
    "        softmax_out_values.extend(max_values.cpu().numpy())\n",
    "        \n",
    "        # 예측 클래스 저장\n",
    "        predicted_classes.extend(torch.argmax(softmax_output, dim=1).tolist())\n",
    "\n",
    "# 결과 리스트를 NumPy 배열로 변환\n",
    "softmax_out_values = np.array(softmax_out_values)\n",
    "\n",
    "# 결과 분석\n",
    "print(softmax_out_values.shape)\n",
    "print(Counter(predicted_classes))"
   ]
  },
  {
   "cell_type": "code",
   "execution_count": 14,
   "id": "8780f07f",
   "metadata": {},
   "outputs": [
    {
     "data": {
      "text/plain": [
       "Text(0.5, 1.0, 'OOD softmax score - FPR: 0.000')"
      ]
     },
     "execution_count": 14,
     "metadata": {},
     "output_type": "execute_result"
    },
    {
     "data": {
      "image/png": "[encoded data removed]",
      "text/plain": [
       "<Figure size 800x550 with 1 Axes>"
      ]
     },
     "metadata": {},
     "output_type": "display_data"
    }
   ],
   "source": [
    "plt.hist(softmax_out_values)\n",
    "plt.axvline(x = TPR95, color = 'red')\n",
    "plt.text(TPR95, 800, np.round(TPR95,3), fontsize=12, color='black')\n",
    "plt.title('OOD softmax score - FPR: {:.3f}'.format(np.mean(softmax_out_values > TPR95)))"
   ]
  },
  {
   "cell_type": "markdown",
   "id": "2ccfc661",
   "metadata": {},
   "source": [
    "# OOD : Mixed Donut"
   ]
  },
  {
   "cell_type": "code",
   "execution_count": 15,
   "id": "3f76baa0",
   "metadata": {},
   "outputs": [
    {
     "name": "stdout",
     "output_type": "stream",
     "text": [
      "torch.Size([5000])\n",
      "Counter({3: 5000})\n"
     ]
    }
   ],
   "source": [
    "group_out = np.load('mixed_wm811k/group_donut.npy')\n",
    "\n",
    "group_out = torch.Tensor(group_out)\n",
    "\n",
    "group_out[group_out == 255] = 1\n",
    "\n",
    "sample_image = group_out\n",
    "\n",
    "# 모델에 이미지 데이터 전달\n",
    "model.eval()  # 모델을 평가 모드로 설정\n",
    "with torch.no_grad():  # 그라디언트 계산 비활성화\n",
    "    output = model(sample_image.to(DEVICE))  # 모델에 이미지 데이터 전달\n",
    "\n",
    "# 소프트맥스 함수를 적용하여 확률값 계산\n",
    "softmax_output = torch.softmax(output, dim=1)\n",
    "\n",
    "predicted_classes = torch.argmax(softmax_output, dim=1).tolist()\n",
    "\n",
    "# 각 이미지별로 가장 큰 소프트맥스 값을 가진 값을 추출\n",
    "softmax_out = torch.max(softmax_output, axis = 1).values\n",
    "print(softmax_out.shape)\n",
    "print(Counter(predicted_classes))"
   ]
  },
  {
   "cell_type": "code",
   "execution_count": 16,
   "id": "f61c2563",
   "metadata": {},
   "outputs": [
    {
     "data": {
      "text/plain": [
       "<matplotlib.lines.Line2D at 0x1ddd57cf670>"
      ]
     },
     "execution_count": 16,
     "metadata": {},
     "output_type": "execute_result"
    },
    {
     "data": {
      "image/png": "[encoded data removed]",
      "text/plain": [
       "<Figure size 800x550 with 1 Axes>"
      ]
     },
     "metadata": {},
     "output_type": "display_data"
    }
   ],
   "source": [
    "plt.hist(softmax_out.cpu().numpy())\n",
    "plt.axvline(x = TPR95, color = 'red')\n",
    "#plt.text(TPR95, 500, np.round(TPR95,3), fontsize=12, color='black')\n",
    "#plt.title('Mixed Donut max softmax score - FPR: {:.3f}'.format(np.mean(softmax_out.cpu().numpy() > TPR95)))"
   ]
  },
  {
   "cell_type": "markdown",
   "id": "95a9b996",
   "metadata": {},
   "source": [
    "# OOD : Mixed Center"
   ]
  },
  {
   "cell_type": "code",
   "execution_count": 17,
   "id": "fe4b169e",
   "metadata": {},
   "outputs": [
    {
     "name": "stdout",
     "output_type": "stream",
     "text": [
      "torch.Size([5000])\n",
      "Counter({3: 5000})\n"
     ]
    }
   ],
   "source": [
    "group_out = np.load('mixed_wm811k/group_center.npy')\n",
    "\n",
    "group_out = torch.Tensor(group_out)\n",
    "\n",
    "group_out[group_out == 255] = 1\n",
    "\n",
    "sample_image = group_out\n",
    "\n",
    "# 모델에 이미지 데이터 전달\n",
    "model.eval()  # 모델을 평가 모드로 설정\n",
    "with torch.no_grad():  # 그라디언트 계산 비활성화\n",
    "    output = model(sample_image.to(DEVICE))  # 모델에 이미지 데이터 전달\n",
    "\n",
    "# 소프트맥스 함수를 적용하여 확률값 계산\n",
    "softmax_output = torch.softmax(output, dim=1)\n",
    "\n",
    "predicted_classes = torch.argmax(softmax_output, dim=1).tolist()\n",
    "\n",
    "# 각 이미지별로 가장 큰 소프트맥스 값을 가진 값을 추출\n",
    "softmax_out = torch.max(softmax_output, axis = 1).values\n",
    "print(softmax_out.shape)\n",
    "print(Counter(predicted_classes))"
   ]
  },
  {
   "cell_type": "code",
   "execution_count": 18,
   "id": "0ed08e57",
   "metadata": {},
   "outputs": [
    {
     "data": {
      "text/plain": [
       "Text(0.5, 1.0, 'Mixed Center max softmax score - FPR: 0.000')"
      ]
     },
     "execution_count": 18,
     "metadata": {},
     "output_type": "execute_result"
    },
    {
     "data": {
      "image/png": "[encoded data removed]",
      "text/plain": [
       "<Figure size 800x550 with 1 Axes>"
      ]
     },
     "metadata": {},
     "output_type": "display_data"
    }
   ],
   "source": [
    "plt.hist(softmax_out.cpu().numpy())\n",
    "plt.axvline(x = TPR95, color = 'red')\n",
    "plt.text(TPR95, 600, np.round(TPR95,3), fontsize=12, color='black')\n",
    "plt.title('Mixed Center max softmax score - FPR: {:.3f}'.format(np.mean(softmax_out.cpu().numpy() > TPR95)))"
   ]
  },
  {
   "cell_type": "markdown",
   "id": "5c9d44bc",
   "metadata": {},
   "source": [
    "# OOD : unlike_donut"
   ]
  },
  {
   "cell_type": "code",
   "execution_count": 19,
   "id": "31647605",
   "metadata": {},
   "outputs": [
    {
     "name": "stdout",
     "output_type": "stream",
     "text": [
      "torch.Size([5000])\n",
      "Counter({3: 5000})\n"
     ]
    }
   ],
   "source": [
    "group_out = np.load('mixed_wm811k/group_unlike_donut.npy')\n",
    "\n",
    "group_out = torch.Tensor(group_out)\n",
    "\n",
    "group_out[group_out == 255] = 1\n",
    "\n",
    "sample_image = group_out\n",
    "\n",
    "# 모델에 이미지 데이터 전달\n",
    "model.eval()  # 모델을 평가 모드로 설정\n",
    "with torch.no_grad():  # 그라디언트 계산 비활성화\n",
    "    output = model(sample_image.to(DEVICE))  # 모델에 이미지 데이터 전달\n",
    "\n",
    "# 소프트맥스 함수를 적용하여 확률값 계산\n",
    "softmax_output = torch.softmax(output, dim=1)\n",
    "\n",
    "predicted_classes = torch.argmax(softmax_output, dim=1).tolist()\n",
    "\n",
    "# 각 이미지별로 가장 큰 소프트맥스 값을 가진 값을 추출\n",
    "softmax_out = torch.max(softmax_output, axis = 1).values\n",
    "print(softmax_out.shape)\n",
    "print(Counter(predicted_classes))"
   ]
  },
  {
   "cell_type": "code",
   "execution_count": 20,
   "id": "1aa5aeb0",
   "metadata": {},
   "outputs": [
    {
     "name": "stdout",
     "output_type": "stream",
     "text": [
      "torch.Size([5000])\n",
      "Counter({3: 5000})\n"
     ]
    }
   ],
   "source": [
    "group_out = np.load('mixed_wm811k/group_unlike_donut.npy')\n",
    "\n",
    "group_out = torch.Tensor(group_out)\n",
    "\n",
    "group_out[group_out == 255] = 1\n",
    "\n",
    "sample_image = group_out\n",
    "\n",
    "# 모델에 이미지 데이터 전달\n",
    "model.eval()  # 모델을 평가 모드로 설정\n",
    "with torch.no_grad():  # 그라디언트 계산 비활성화\n",
    "    output = model(sample_image.to(DEVICE))  # 모델에 이미지 데이터 전달\n",
    "\n",
    "# 소프트맥스 함수를 적용하여 확률값 계산\n",
    "softmax_output = torch.softmax(output, dim=1)\n",
    "\n",
    "predicted_classes = torch.argmax(softmax_output, dim=1).tolist()\n",
    "\n",
    "# 각 이미지별로 가장 큰 소프트맥스 값을 가진 값을 추출\n",
    "softmax_out = torch.max(softmax_output, axis = 1).values\n",
    "print(softmax_out.shape)\n",
    "print(Counter(predicted_classes))"
   ]
  },
  {
   "cell_type": "code",
   "execution_count": 21,
   "id": "2f422461",
   "metadata": {},
   "outputs": [
    {
     "data": {
      "text/plain": [
       "Text(0.5, 1.0, 'Unlike Donut max softmax score - FPR: 0.000')"
      ]
     },
     "execution_count": 21,
     "metadata": {},
     "output_type": "execute_result"
    },
    {
     "data": {
      "image/png": "[encoded data removed]",
      "text/plain": [
       "<Figure size 800x550 with 1 Axes>"
      ]
     },
     "metadata": {},
     "output_type": "display_data"
    }
   ],
   "source": [
    "plt.hist(softmax_out.cpu().numpy())\n",
    "plt.axvline(x = TPR95, color = 'red')\n",
    "plt.text(TPR95, 800, np.round(TPR95,3), fontsize=12, color='black')\n",
    "plt.title('Unlike Donut max softmax score - FPR: {:.3f}'.format(np.mean(softmax_out.cpu().numpy() > TPR95)))"
   ]
  },
  {
   "cell_type": "markdown",
   "id": "5a2dc0d0",
   "metadata": {},
   "source": [
    "# OOD : CIFAR100"
   ]
  },
  {
   "cell_type": "code",
   "execution_count": 22,
   "id": "cdd05776",
   "metadata": {},
   "outputs": [
    {
     "name": "stdout",
     "output_type": "stream",
     "text": [
      "(10000,)\n",
      "Counter({3: 2847, 2: 2274, 0: 1511, 6: 871, 4: 608, 8: 557, 9: 405, 7: 346, 5: 299, 1: 282})\n"
     ]
    }
   ],
   "source": [
    "OOD = np.load('cifar100_test_data.npy')\n",
    "group_out = torch.Tensor(OOD)\n",
    "total_data_size = len(group_out)\n",
    "\n",
    "# 미니 배치 크기\n",
    "BATCH_SIZE = 64  # 원하는 배치 크기로 조정하세요\n",
    "\n",
    "# 모델을 평가 모드로 설정\n",
    "model.eval()\n",
    "\n",
    "# 결과를 저장할 리스트 초기화\n",
    "softmax_out_values = []\n",
    "\n",
    "# 예측 클래스를 저장할 리스트 초기화\n",
    "predicted_classes = []\n",
    "\n",
    "# 미니 배치를 사용하여 데이터 처리\n",
    "for i in range(0, total_data_size, BATCH_SIZE):\n",
    "    batch_data = group_out[i:i + BATCH_SIZE]  # 미니 배치 데이터 추출\n",
    "    \n",
    "    with torch.no_grad():\n",
    "        # 미니 배치를 DEVICE로 이동\n",
    "        batch_data = batch_data.to(DEVICE)\n",
    "        \n",
    "        # 모델에 미니 배치 데이터 전달\n",
    "        output = model(batch_data)\n",
    "        \n",
    "        # 소프트맥스 함수를 적용하여 확률값 계산\n",
    "        softmax_output = torch.softmax(output, dim=1)\n",
    "        \n",
    "        # 각 이미지별로 가장 큰 소프트맥스 값을 가진 값을 추출\n",
    "        max_values = torch.max(softmax_output, axis=1).values\n",
    "        \n",
    "        # 결과를 리스트에 추가\n",
    "        softmax_out_values.extend(max_values.cpu().numpy())\n",
    "        \n",
    "        # 예측 클래스 저장\n",
    "        predicted_classes.extend(torch.argmax(softmax_output, dim=1).tolist())\n",
    "\n",
    "# 결과 리스트를 NumPy 배열로 변환\n",
    "softmax_out_values = np.array(softmax_out_values)\n",
    "\n",
    "# 결과 분석\n",
    "print(softmax_out_values.shape)\n",
    "print(Counter(predicted_classes))"
   ]
  },
  {
   "cell_type": "code",
   "execution_count": 23,
   "id": "f2e2edac",
   "metadata": {},
   "outputs": [
    {
     "data": {
      "text/plain": [
       "Text(0.5, 1.0, 'OOD softmax score - FPR: 0.631')"
      ]
     },
     "execution_count": 23,
     "metadata": {},
     "output_type": "execute_result"
    },
    {
     "data": {
      "image/png": "[encoded data removed]",
      "text/plain": [
       "<Figure size 800x550 with 1 Axes>"
      ]
     },
     "metadata": {},
     "output_type": "display_data"
    }
   ],
   "source": [
    "plt.hist(softmax_out_values)\n",
    "plt.axvline(x = TPR95, color = 'red')\n",
    "plt.text(TPR95, 800, np.round(TPR95,3), fontsize=12, color='black')\n",
    "plt.title('OOD softmax score - FPR: {:.3f}'.format(np.mean(softmax_out_values > TPR95)))"
   ]
  },
  {
   "cell_type": "code",
   "execution_count": null,
   "id": "73680d0e",
   "metadata": {},
   "outputs": [],
   "source": []
  }
 ],
 "metadata": {
  "kernelspec": {
   "display_name": "Python 3 (ipykernel)",
   "language": "python",
   "name": "python3"
  },
  "language_info": {
   "codemirror_mode": {
    "name": "ipython",
    "version": 3
   },
   "file_extension": ".py",
   "mimetype": "text/x-python",
   "name": "python",
   "nbconvert_exporter": "python",
   "pygments_lexer": "ipython3",
   "version": "3.10.9"
  }
 },
 "nbformat": 4,
 "nbformat_minor": 5
}
